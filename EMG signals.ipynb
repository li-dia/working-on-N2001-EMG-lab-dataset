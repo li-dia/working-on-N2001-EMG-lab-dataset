{
 "cells": [
  {
   "cell_type": "code",
   "execution_count": 1,
   "id": "ec66c909",
   "metadata": {},
   "outputs": [],
   "source": [
    "import os, random, sys, pdb, datetime, collections, math\n",
    "import numpy as np"
   ]
  },
  {
   "cell_type": "code",
   "execution_count": 3,
   "id": "d3c3730b",
   "metadata": {},
   "outputs": [],
   "source": [
    "# Load data from dataset\n",
    "def get_dataset(data_base_dir, shuffle=True):\n",
    "    data_type = {}\n",
    "    total = 0\n",
    "    urls = []\n",
    "    labels = []\n",
    "    label_map = []\n",
    "    for dt in os.listdir(data_base_dir):\n",
    "        dt_p = os.path.join(data_base_dir, dt)\n",
    "        if os.path.isdir(dt_p):\n",
    "            data_type[dt] = {}\n",
    "\n",
    "            for disease in os.listdir(dt_p):\n",
    "                if disease in label_map:\n",
    "                    label = label_map.index(disease)\n",
    "                else:\n",
    "                    label_map.append(disease)\n",
    "                    label = label_map.index(disease)\n",
    "\n",
    "                disease_p = os.path.join(dt_p, disease)\n",
    "                if os.path.isdir(disease_p):\n",
    "                    data_type[dt][disease] = {}\n",
    "                    for pat in os.listdir(disease_p):\n",
    "                        pat_p = os.path.join(disease_p, pat)\n",
    "                        if os.path.isdir(pat_p):\n",
    "                            data_type[dt][disease][pat] = {}\n",
    "                            for rec in os.listdir(pat_p):\n",
    "                                rec_p = os.path.join(pat_p, rec)\n",
    "                                if os.path.isdir(rec_p):\n",
    "                                    data_type[dt][disease][pat][rec] = rec_p\n",
    "                                    urls.append(rec_p)\n",
    "                                    labels.append(label)\n",
    "                                    total += 1\n",
    "    print(type(labels))\n",
    "    if shuffle and len(urls) > 0:\n",
    "        c = list(zip(urls, labels))\n",
    "        random.shuffle(c)\n",
    "        urls, labels = zip(*c)\n",
    "\n",
    "    return urls, labels, label_map"
   ]
  },
  {
   "cell_type": "code",
   "execution_count": 4,
   "id": "6f0ed81f",
   "metadata": {},
   "outputs": [],
   "source": [
    "# Extract sampling rate from header file\n",
    "def read_sampling_rate(path):\n",
    "    file = open(path, 'r')\n",
    "    content = file.read().split(\"\\n\")\n",
    "    sampling_rate = float(content[0].split(\" \")[2])\n",
    "    return sampling_rate"
   ]
  },
  {
   "cell_type": "code",
   "execution_count": 7,
   "id": "0b6b44b5",
   "metadata": {},
   "outputs": [
    {
     "ename": "FileNotFoundError",
     "evalue": "[WinError 3] The system cannot find the path specified: 'dataset\\\\'",
     "output_type": "error",
     "traceback": [
      "\u001b[1;31m---------------------------------------------------------------------------\u001b[0m",
      "\u001b[1;31mFileNotFoundError\u001b[0m                         Traceback (most recent call last)",
      "Input \u001b[1;32mIn [7]\u001b[0m, in \u001b[0;36m<cell line: 3>\u001b[1;34m()\u001b[0m\n\u001b[0;32m      1\u001b[0m root \u001b[38;5;241m=\u001b[39m \u001b[38;5;124m'\u001b[39m\u001b[38;5;124mdataset\u001b[39m\u001b[38;5;130;01m\\\\\u001b[39;00m\u001b[38;5;124m'\u001b[39m\n\u001b[0;32m      2\u001b[0m \u001b[38;5;66;03m#base = root + 'train\\\\als\\\\a01_patient\\\\N2001A01BB02\\\\'\u001b[39;00m\n\u001b[1;32m----> 3\u001b[0m urls, labels, label_map \u001b[38;5;241m=\u001b[39m \u001b[43mget_dataset\u001b[49m\u001b[43m(\u001b[49m\u001b[43mroot\u001b[49m\u001b[43m,\u001b[49m\u001b[43m \u001b[49m\u001b[43mshuffle\u001b[49m\u001b[38;5;241;43m=\u001b[39;49m\u001b[38;5;28;43;01mTrue\u001b[39;49;00m\u001b[43m)\u001b[49m\n",
      "Input \u001b[1;32mIn [3]\u001b[0m, in \u001b[0;36mget_dataset\u001b[1;34m(data_base_dir, shuffle)\u001b[0m\n\u001b[0;32m      6\u001b[0m labels \u001b[38;5;241m=\u001b[39m []\n\u001b[0;32m      7\u001b[0m label_map \u001b[38;5;241m=\u001b[39m []\n\u001b[1;32m----> 8\u001b[0m \u001b[38;5;28;01mfor\u001b[39;00m dt \u001b[38;5;129;01min\u001b[39;00m \u001b[43mos\u001b[49m\u001b[38;5;241;43m.\u001b[39;49m\u001b[43mlistdir\u001b[49m\u001b[43m(\u001b[49m\u001b[43mdata_base_dir\u001b[49m\u001b[43m)\u001b[49m:\n\u001b[0;32m      9\u001b[0m     dt_p \u001b[38;5;241m=\u001b[39m os\u001b[38;5;241m.\u001b[39mpath\u001b[38;5;241m.\u001b[39mjoin(data_base_dir, dt)\n\u001b[0;32m     10\u001b[0m     \u001b[38;5;28;01mif\u001b[39;00m os\u001b[38;5;241m.\u001b[39mpath\u001b[38;5;241m.\u001b[39misdir(dt_p):\n",
      "\u001b[1;31mFileNotFoundError\u001b[0m: [WinError 3] The system cannot find the path specified: 'dataset\\\\'"
     ]
    }
   ],
   "source": [
    "root = 'dataset\\\\'\n",
    "#base = root + 'train\\\\als\\\\a01_patient\\\\N2001A01BB02\\\\'\n",
    "urls, labels, label_map = get_dataset(root, shuffle=True)"
   ]
  },
  {
   "cell_type": "code",
   "execution_count": null,
   "id": "894a8a30",
   "metadata": {},
   "outputs": [],
   "source": []
  }
 ],
 "metadata": {
  "kernelspec": {
   "display_name": "Python 3 (ipykernel)",
   "language": "python",
   "name": "python3"
  },
  "language_info": {
   "codemirror_mode": {
    "name": "ipython",
    "version": 3
   },
   "file_extension": ".py",
   "mimetype": "text/x-python",
   "name": "python",
   "nbconvert_exporter": "python",
   "pygments_lexer": "ipython3",
   "version": "3.9.12"
  }
 },
 "nbformat": 4,
 "nbformat_minor": 5
}
