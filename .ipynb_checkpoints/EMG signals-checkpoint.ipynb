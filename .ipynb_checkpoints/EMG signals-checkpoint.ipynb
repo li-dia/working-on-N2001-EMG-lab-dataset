{
 "cells": [
  {
   "cell_type": "code",
   "execution_count": 3,
   "id": "d1c6a515",
   "metadata": {},
   "outputs": [],
   "source": [
    "import os"
   ]
  },
  {
   "cell_type": "code",
   "execution_count": 4,
   "id": "bcd61447",
   "metadata": {},
   "outputs": [],
   "source": [
    "signals = os.listdir(r'C:\\Users\\lenovo\\OneDrive\\Documents\\working-on-N2001-EMG-lab-dataset\\dataset')"
   ]
  },
  {
   "cell_type": "code",
   "execution_count": 5,
   "id": "0b34ce98",
   "metadata": {},
   "outputs": [
    {
     "data": {
      "text/plain": [
       "['N2001A01AP.zip',\n",
       " 'N2001A01BB.zip',\n",
       " 'N2001A01VM.zip',\n",
       " 'N2001A02TA.zip',\n",
       " 'N2001A02VL.zip',\n",
       " 'N2001A03BB.zip',\n",
       " 'N2001A03VM.zip',\n",
       " 'N2001A04BB.zip',\n",
       " 'N2001A04DE.zip',\n",
       " 'N2001A04VM.zip',\n",
       " 'N2001A05BB.zip',\n",
       " 'N2001A05DE.zip',\n",
       " 'N2001A05VM.zip',\n",
       " 'N2001A06BB.zip',\n",
       " 'N2001A06VM.zip',\n",
       " 'N2001A07BB.zip',\n",
       " 'N2001A07TA.zip',\n",
       " 'N2001A07VM.zip',\n",
       " 'N2001A08BB.zip',\n",
       " 'N2001A08TA.zip',\n",
       " 'N2001A08VM.zip',\n",
       " 'N2001C01BB.zip',\n",
       " 'N2001C02BB.zip',\n",
       " 'N2001C03BB.zip',\n",
       " 'N2001C04BB.zip',\n",
       " 'N2001C05BB.zip',\n",
       " 'N2001C06BB.zip',\n",
       " 'N2001C07BB.zip',\n",
       " 'N2001C08BB.zip',\n",
       " 'N2001C09BB.zip',\n",
       " 'N2001C10BB.zip',\n",
       " 'N2001M01TA.zip',\n",
       " 'N2001M01TF.zip',\n",
       " 'N2001M01VM.zip',\n",
       " 'N2001M02BB.zip',\n",
       " 'N2001M02DE.zip',\n",
       " 'N2001M02TB.zip',\n",
       " 'N2001M02VM.zip',\n",
       " 'N2001M03BB.zip',\n",
       " 'N2001M03DE.zip',\n",
       " 'N2001M03VM.zip',\n",
       " 'N2001M04BB.zip',\n",
       " 'N2001M04DE.zip',\n",
       " 'N2001M04VM.zip',\n",
       " 'N2001M05BB.zip',\n",
       " 'N2001M05VM.zip',\n",
       " 'N2001M06BB.zip',\n",
       " 'N2001M06VM.zip',\n",
       " 'N2001M07BB.zip',\n",
       " 'N2001M07DE.zip',\n",
       " 'N2001M07VM.zip']"
      ]
     },
     "execution_count": 5,
     "metadata": {},
     "output_type": "execute_result"
    }
   ],
   "source": [
    "signals\n"
   ]
  },
  {
   "cell_type": "code",
   "execution_count": 6,
   "id": "18e9f937",
   "metadata": {},
   "outputs": [],
   "source": [
    "als, myo, nrml, ap, bb, vm, de, tf, ta, tb, vl = 0, 0, 0, 0, 0, 0, 0, 0, 0, 0, 0\n",
    "for i in range (len(signals)):\n",
    "    if signals[i][5] == 'M' :\n",
    "        myo += 1\n",
    "    if signals[i][5] == 'A' :\n",
    "        als += 1\n",
    "    if signals[i][5] == 'C' :\n",
    "        nrml += 1\n",
    "    if signals[i][8:10] == 'AP' :\n",
    "        ap += 1\n",
    "    if signals[i][8:10] == 'BB' :\n",
    "        bb += 1\n",
    "    if signals[i][8:10] == 'DE' :\n",
    "        de += 1\n",
    "    if signals[i][8:10] == 'VM' :\n",
    "        vm += 1\n",
    "    if signals[i][8:10] == 'TF' :\n",
    "        tf += 1\n",
    "    if signals[i][8:10] == 'TA' :\n",
    "        ta += 1\n",
    "    if signals[i][8:10] == 'TB' :\n",
    "        tb += 1\n",
    "    if signals[i][8:10] == 'VL' :\n",
    "        vl += 1"
   ]
  },
  {
   "cell_type": "code",
   "execution_count": 7,
   "id": "0c23ffed",
   "metadata": {},
   "outputs": [
    {
     "name": "stdout",
     "output_type": "stream",
     "text": [
      "number of myopathy signals:\t20\n",
      "number of neuropathy (ALS) signals:\t21\n",
      "number of normal signals:\t10\n",
      "\n",
      "\n",
      "number of signals taken from Abductor Pollicisbrevis muscle:\t1\n",
      "number of signals taken from Biceps Branchii muscle:\t23\n",
      "number of signals taken from Deltoideus muscle:\t6\n",
      "number of signals taken from Vastus Medialis muscle:\t14\n",
      "number of signals taken from Tesnor Fasciae Latae muscle:\t1\n",
      "number of signals taken from Tibialis Anterior muscle:\t4\n",
      "number of signals taken from Triceps Branchii muscle:\t1\n",
      "number of signals taken from Vastus Lateralis muscle:\t1\n"
     ]
    }
   ],
   "source": [
    "print(\"number of myopathy signals:\\t\"+ str(myo)) \n",
    "print(\"number of neuropathy (ALS) signals:\\t\"+ str(als)) \n",
    "print(\"number of normal signals:\\t\"+ str(nrml)) \n",
    "print(\"\\n\")\n",
    "print(\"number of signals taken from Abductor Pollicisbrevis muscle:\\t\"+ str(ap)) \n",
    "print(\"number of signals taken from Biceps Branchii muscle:\\t\"+ str(bb)) \n",
    "print(\"number of signals taken from Deltoideus muscle:\\t\"+ str(de)) \n",
    "print(\"number of signals taken from Vastus Medialis muscle:\\t\"+ str(vm)) \n",
    "print(\"number of signals taken from Tesnor Fasciae Latae muscle:\\t\"+ str(tf)) \n",
    "print(\"number of signals taken from Tibialis Anterior muscle:\\t\"+ str(ta)) \n",
    "print(\"number of signals taken from Triceps Branchii muscle:\\t\"+ str(tb))  \n",
    "print(\"number of signals taken from Vastus Lateralis muscle:\\t\"+ str(vl)) "
   ]
  },
  {
   "cell_type": "code",
   "execution_count": 8,
   "id": "23be366f",
   "metadata": {},
   "outputs": [],
   "source": [
    "#or using a function \n",
    "def function(muscle, disease, label_map):\n",
    "    k = 0\n",
    "    for i in range(len(label_map)):\n",
    "        if muscle in label_map[i]:\n",
    "            if disease in label_map[i]:\n",
    "                k=k+1\n",
    "    return k"
   ]
  },
  {
   "cell_type": "code",
   "execution_count": 9,
   "id": "b0f621d0",
   "metadata": {},
   "outputs": [
    {
     "name": "stdout",
     "output_type": "stream",
     "text": [
      "number of signals taken from patients with ALS  21\n",
      "number of signals taken from patients with ALS from the biceps brachii muscle  7\n",
      "number of signals taken from patients with ALS from the vastus medialis muscle  7\n",
      "number of signals taken from patients with ALS from the abductor pollicis brevis muscle  1\n",
      "number of signals taken from patients with ALS from the deltoideus muscle  2\n",
      "number of signals taken from patients with ALS from the Tibialis anterior muscle  3\n",
      "number of signals taken from patients with ALS from the vastus lateralis muscle  1\n",
      "\n",
      "\n",
      "number of signals taken from patients with ALS  20\n",
      "number of signals taken from patients with myopathy from the biceps brachii muscle  6\n",
      "number of signals taken from patients with myopathy from the vastus medialis muscle  7\n",
      "number of signals taken from patients with myopathy from the tensor fasciae latae muscle  1\n",
      "number of signals taken from patients with myopathy from the deltoideus muscle  4\n",
      "number of signals taken from patients with myopathy from the Tibialis anterior muscle  1\n",
      "number of signals taken from patients with myopathy from the triceps brachii muscle  1\n",
      "\n",
      "\n",
      "number of signals taken from normal people  10\n",
      "number of signals taken from normal people from the biceps brachii muscle  10\n"
     ]
    }
   ],
   "source": [
    "label_map = signals\n",
    "f=function('','N2001A' , label_map)\n",
    "print('number of signals taken from patients with ALS ',f)\n",
    "f=function('BB','N2001A' , label_map)\n",
    "print('number of signals taken from patients with ALS from the biceps brachii muscle ',f)\n",
    "f=function('VM','N2001A' , label_map)\n",
    "print('number of signals taken from patients with ALS from the vastus medialis muscle ',f)\n",
    "f=function('AP','N2001A' , label_map)\n",
    "print('number of signals taken from patients with ALS from the abductor pollicis brevis muscle ',f)\n",
    "f=function('DE','N2001A' , label_map)\n",
    "print('number of signals taken from patients with ALS from the deltoideus muscle ',f)\n",
    "f=function('TA','N2001A' , label_map)\n",
    "print('number of signals taken from patients with ALS from the Tibialis anterior muscle ',f)\n",
    "f=function('VL','N2001A' , label_map)\n",
    "print('number of signals taken from patients with ALS from the vastus lateralis muscle ',f)\n",
    "print('\\n')\n",
    "\n",
    "f=function('','N2001M' , label_map)\n",
    "print('number of signals taken from patients with ALS ',f)\n",
    "f=function('BB','N2001M' , label_map)\n",
    "print('number of signals taken from patients with myopathy from the biceps brachii muscle ',f)\n",
    "f=function('VM','N2001M' , label_map)\n",
    "print('number of signals taken from patients with myopathy from the vastus medialis muscle ',f)\n",
    "f=function('TF','N2001M' , label_map)\n",
    "print('number of signals taken from patients with myopathy from the tensor fasciae latae muscle ',f)\n",
    "f=function('DE','N2001M' , label_map)\n",
    "print('number of signals taken from patients with myopathy from the deltoideus muscle ',f)\n",
    "f=function('TA','N2001M' , label_map)\n",
    "print('number of signals taken from patients with myopathy from the Tibialis anterior muscle ',f)\n",
    "f=function('TB','N2001M' , label_map)\n",
    "print('number of signals taken from patients with myopathy from the triceps brachii muscle ',f)\n",
    "print('\\n')\n",
    "\n",
    "f=function('','N2001C' , label_map)\n",
    "print('number of signals taken from normal people ',f)\n",
    "f=function('BB','N2001C' , label_map)\n",
    "print('number of signals taken from normal people from the biceps brachii muscle ',f)"
   ]
  },
  {
   "cell_type": "code",
   "execution_count": null,
   "id": "fe866439",
   "metadata": {},
   "outputs": [],
   "source": []
  }
 ],
 "metadata": {
  "kernelspec": {
   "display_name": "Python 3.10.7 64-bit",
   "language": "python",
   "name": "python3"
  },
  "language_info": {
   "codemirror_mode": {
    "name": "ipython",
    "version": 3
   },
   "file_extension": ".py",
   "mimetype": "text/x-python",
   "name": "python",
   "nbconvert_exporter": "python",
   "pygments_lexer": "ipython3",
   "version": "3.10.7"
  },
  "vscode": {
   "interpreter": {
    "hash": "369f2c481f4da34e4445cda3fffd2e751bd1c4d706f27375911949ba6bb62e1c"
   }
  }
 },
 "nbformat": 4,
 "nbformat_minor": 5
}
