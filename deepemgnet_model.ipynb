{
 "cells": [
  {
   "cell_type": "code",
   "execution_count": 1,
   "metadata": {
    "id": "2m-VDw7J1u4K"
   },
   "outputs": [],
   "source": [
    "import scipy.io\n",
    "import tensorflow as tf\n",
    "import numpy as np\n",
    "from tensorflow import  keras\n",
    "from keras.callbacks import TensorBoard\n",
    "from sklearn.preprocessing import MinMaxScaler,StandardScaler,scale\n",
    "from skimage.measure import block_reduce\n",
    "from tensorflow.keras import layers\n",
    "from sklearn.model_selection import train_test_split\n",
    "from datetime import datetime\n",
    "import pandas as pd\n",
    "import os\n",
    "import matplotlib.pyplot as plt\n",
    "from tensorflow.keras.models import Sequential\n",
    "from tensorflow.keras.layers import Conv1D, MaxPooling1D, Dense, Flatten, Dropout"
   ]
  },
  {
   "cell_type": "code",
   "execution_count": 13,
   "metadata": {
    "id": "8Rwb_WUh105H"
   },
   "outputs": [],
   "source": [
    "def load_data():\n",
    "    als = scipy.io.loadmat('C:/Users/lenovo/OneDrive/Documents/drive-download-20230214T190624Z-001/ALS.mat',)[\"data\"].transpose()  #(262134, 321)\n",
    "    normal = scipy.io.loadmat('C:/Users/lenovo/OneDrive/Documents/drive-download-20230214T190624Z-001/normal.mat')['data'].transpose() # (262134, 270) \n",
    "    myopathy = scipy.io.loadmat('C:/Users/lenovo/OneDrive/Documents/drive-download-20230214T190624Z-001/myopathie.mat')['data'].transpose() #(262134, 315)\n",
    "    return als,normal,myopathy"
   ]
  },
  {
   "cell_type": "code",
   "execution_count": 14,
   "metadata": {
    "id": "lgHV-6wU12n5"
   },
   "outputs": [],
   "source": [
    "\n",
    "def scale_data_minmax(data):\n",
    "#type of scaler that scales the minimum and maximum values to be 0 and 1 respectively. \n",
    "    scaler = MinMaxScaler()\n",
    "#fit_transform() then it will calculate the mean(μ) and standard deviation(σ) of the feature F at a time it will transform the data points of the feature F.    \n",
    "    normalized_data =scaler.fit_transform(data)\n",
    "\n",
    "\n",
    "    return normalized_data"
   ]
  },
  {
   "cell_type": "code",
   "execution_count": 15,
   "metadata": {
    "id": "bcIEKXLjciKr"
   },
   "outputs": [],
   "source": [
    "def scale_data_standard(data):\n",
    "    scaled_data = scale(data,axis=1)\n",
    "    return scaled_data"
   ]
  },
  {
   "cell_type": "code",
   "execution_count": 16,
   "metadata": {
    "id": "I_QR6IDs14Dm"
   },
   "outputs": [],
   "source": [
    "def gen_tensors_list(data,dim):\n",
    "    dataset  = list()\n",
    "    for i in range (len(data)):\n",
    "        arg = tf.convert_to_tensor(data[i], dtype=tf.float32)\n",
    "        arg = tf.reshape(arg,dim)\n",
    "        dataset.append(arg)\n",
    "\n",
    "    return dataset"
   ]
  },
  {
   "cell_type": "code",
   "execution_count": 17,
   "metadata": {
    "id": "gaSw9KLt15zX"
   },
   "outputs": [],
   "source": [
    "def windowing_fun(data,window_size=1000,overlap=100):\n",
    "    windowed_data = [data[j][i : i + window_size] for j in range(0,len(data)) for i in range(0, len(data[j]), window_size-overlap)]\n",
    "    final_data = [windowed_data[i] for i in range(len(windowed_data)) if len(windowed_data[i]) == window_size ]\n",
    "    return final_data"
   ]
  },
  {
   "cell_type": "code",
   "execution_count": 18,
   "metadata": {
    "id": "zKAC9ocbn33R"
   },
   "outputs": [],
   "source": [
    "def load_file_names():\n",
    "    als = scipy.io.loadmat('C:/Users/lenovo/OneDrive/Documents/drive-download-20230214T190624Z-001/ALS.mat',)[\"files\"]  #(262134, 321)\n",
    "    normal = scipy.io.loadmat('C:/Users/lenovo/OneDrive/Documents/drive-download-20230214T190624Z-001/normal.mat')['files'] # (262134, 270) \n",
    "    myopathy = scipy.io.loadmat('C:/Users/lenovo/OneDrive/Documents/drive-download-20230214T190624Z-001/myopathie.mat')['files'] #(262134, 315)\n",
    "    return als,normal,myopathy"
   ]
  },
  {
   "cell_type": "code",
   "execution_count": 19,
   "metadata": {
    "id": "CEcbdDJD36Ro"
   },
   "outputs": [],
   "source": [
    "def generate_dataframe(data,files):\n",
    "    df = pd.DataFrame([], columns=['type_signal',\"num_personne\",\"muscle\",\"num_enregistrement\",\"signal\"])\n",
    "    windowed_data = [{\"signal\": data[j],\"type_signal\":files[0][j][0][5],\"num_personne\": files[0][j][0][6:8],\"muscle\": files[0][j][0][8:10],\"num_enregistrement\":files[0][j][0][10:12] } for j in range(0,len(data)) ]\n",
    "    final_data = pd.DataFrame(windowed_data)\n",
    "    #df =df.append(final_data, ignore_index=True)\n",
    "    #df =pd.concat([df, final_data])\n",
    "    df = pd.concat([df, final_data], ignore_index=True)\n",
    "    return df"
   ]
  },
  {
   "cell_type": "code",
   "execution_count": 20,
   "metadata": {
    "id": "22ZQdg5FViHH"
   },
   "outputs": [],
   "source": [
    "als, normal , myopathy = load_data()"
   ]
  },
  {
   "cell_type": "code",
   "execution_count": 21,
   "metadata": {
    "id": "70ffS0nSn3u9"
   },
   "outputs": [],
   "source": [
    "alsfiles,normalfiles,myopathyfiles = load_file_names()"
   ]
  },
  {
   "cell_type": "code",
   "execution_count": 22,
   "metadata": {
    "id": "m3v-unfnVKTq"
   },
   "outputs": [],
   "source": [
    "df = generate_dataframe(np.vstack((normal,als,myopathy)),np.concatenate((normalfiles,alsfiles,myopathyfiles),axis=1))"
   ]
  },
  {
   "cell_type": "code",
   "execution_count": 23,
   "metadata": {
    "id": "AgRS2F9AVvDq"
   },
   "outputs": [],
   "source": [
    "def f(row):\n",
    "    return {\"C\":0,\"A\":1,\"M\":2}[row[\"type_signal\"]]\n",
    "\n",
    "df[\"num_class\"] =df.apply(f, axis=1) "
   ]
  },
  {
   "cell_type": "code",
   "execution_count": 24,
   "metadata": {
    "id": "MoeHi_gvST3W"
   },
   "outputs": [],
   "source": [
    "df = df.query(\"muscle=='BB'\")"
   ]
  },
  {
   "cell_type": "code",
   "execution_count": 25,
   "metadata": {
    "id": "4Zc_4AzmrQ3s"
   },
   "outputs": [],
   "source": [
    "X = df['signal'].tolist()\n",
    "Y = df['num_class'].tolist()"
   ]
  },
  {
   "cell_type": "code",
   "execution_count": 26,
   "metadata": {
    "id": "NYc4-mxsrLpm"
   },
   "outputs": [],
   "source": [
    "X=X[170:]\n",
    "Y=Y[170:]"
   ]
  },
  {
   "cell_type": "code",
   "execution_count": 27,
   "metadata": {
    "id": "aH0VoR_UE3yR"
   },
   "outputs": [],
   "source": [
    "del df"
   ]
  },
  {
   "cell_type": "code",
   "execution_count": 28,
   "metadata": {},
   "outputs": [
    {
     "data": {
      "text/plain": [
       "(262134,)"
      ]
     },
     "execution_count": 28,
     "metadata": {},
     "output_type": "execute_result"
    }
   ],
   "source": [
    "random_noise_1 = np.random.normal(0,1,len(X[0]))\n",
    "random_noise_2 = np.random.normal(0,1,len(X[0]))\n",
    "random_noise_3 = np.random.normal(0,1,len(X[0]))\n",
    "random_noise_4 = np.random.normal(0,1,len(X[0]))\n",
    "np.shape(random_noise_1)"
   ]
  },
  {
   "cell_type": "code",
   "execution_count": 29,
   "metadata": {
    "id": "C0CR1uU2XRKo"
   },
   "outputs": [],
   "source": [
    "data = [*X]\n",
    "#data, np.shape(data)"
   ]
  },
  {
   "cell_type": "code",
   "execution_count": 30,
   "metadata": {},
   "outputs": [
    {
     "name": "stdout",
     "output_type": "stream",
     "text": [
      "(1220, 262134)\n"
     ]
    }
   ],
   "source": [
    "data  += list(map(lambda x : x + random_noise_1, X))\n",
    "data  += list(map(lambda x : x + random_noise_2, X))\n",
    "data  += list(map(lambda x : x + random_noise_3, X))\n",
    "#data  += list(map(lambda x : x + random_noise_4, X))\n",
    "print(np.asarray(data).shape)\n",
    "#print(data)"
   ]
  },
  {
   "cell_type": "code",
   "execution_count": 31,
   "metadata": {
    "id": "n-GIqksRfZRm"
   },
   "outputs": [],
   "source": [
    "del  als,normal,myopathy,alsfiles,normalfiles,myopathyfiles "
   ]
  },
  {
   "cell_type": "code",
   "execution_count": 32,
   "metadata": {
    "id": "Blrv7OFwUm4c"
   },
   "outputs": [],
   "source": [
    "data = scale_data_standard(data)"
   ]
  },
  {
   "cell_type": "code",
   "execution_count": 33,
   "metadata": {
    "id": "Bcr4HAHp421F"
   },
   "outputs": [],
   "source": [
    "last_index_normal = len(Y) - 1 - Y[::-1].index(0)"
   ]
  },
  {
   "cell_type": "code",
   "execution_count": 34,
   "metadata": {
    "id": "dmru4zsF421H"
   },
   "outputs": [],
   "source": [
    "last_index_als = len(Y) - 1 - Y[::-1].index(1)"
   ]
  },
  {
   "cell_type": "code",
   "execution_count": 35,
   "metadata": {
    "id": "9tVZ_pi5421I"
   },
   "outputs": [],
   "source": [
    "last_index_myopathy = len(Y) - 1 - Y[::-1].index(2)"
   ]
  },
  {
   "cell_type": "code",
   "execution_count": 36,
   "metadata": {
    "id": "swCxixoS421I"
   },
   "outputs": [],
   "source": [
    "windowed_normal = len(windowing_fun(X[:last_index_normal+1],10000))\n",
    "windowed_als = len(windowing_fun(X[last_index_normal+1:last_index_als+1],10000))\n",
    "windowed_myopathy = len(windowing_fun(X[last_index_als+1:],10000))"
   ]
  },
  {
   "cell_type": "code",
   "execution_count": 37,
   "metadata": {
    "id": "GvWbyRyg421I"
   },
   "outputs": [],
   "source": [
    "Y = [0]*(windowed_normal)+[1]*(windowed_als)+[2]*(windowed_myopathy)"
   ]
  },
  {
   "cell_type": "code",
   "execution_count": 38,
   "metadata": {
    "id": "GTZzqak7rFWV"
   },
   "outputs": [],
   "source": [
    "Y  = Y*4"
   ]
  },
  {
   "cell_type": "code",
   "execution_count": 39,
   "metadata": {
    "id": "r_VgwyYfYWnt"
   },
   "outputs": [],
   "source": [
    "X = windowing_fun(data,10000)"
   ]
  },
  {
   "cell_type": "code",
   "execution_count": 40,
   "metadata": {
    "id": "BpKYgn3EkgsU"
   },
   "outputs": [],
   "source": [
    "del data"
   ]
  },
  {
   "cell_type": "code",
   "execution_count": 41,
   "metadata": {
    "id": "3B8PeUZaeeQC"
   },
   "outputs": [],
   "source": [
    "X = scale_data_standard(X)"
   ]
  },
  {
   "cell_type": "code",
   "execution_count": 42,
   "metadata": {
    "id": "Q1h0Nh9nlim8"
   },
   "outputs": [],
   "source": [
    "tensors_list = gen_tensors_list(X,(1,10000))"
   ]
  },
  {
   "cell_type": "code",
   "execution_count": 51,
   "metadata": {
    "id": "LAQNPWwyHK7g"
   },
   "outputs": [
    {
     "data": {
      "text/plain": [
       "((30451, 1, 10000), (1269, 1, 10000))"
      ]
     },
     "execution_count": 51,
     "metadata": {},
     "output_type": "execute_result"
    }
   ],
   "source": [
    "X_train, X_test, y_train, y_test = train_test_split( tensors_list, Y, test_size=0.04,random_state=20)\n",
    "np.shape(X_train), np.shape(X_test)"
   ]
  },
  {
   "cell_type": "code",
   "execution_count": 52,
   "metadata": {},
   "outputs": [],
   "source": [
    "model = Sequential([\n",
    "    #Conv2D(#of filters, filters size, activation function)\n",
    "    #in keras for the first layer we always need to mention the input shape\n",
    "    Conv1D(64, 3, activation = 'relu', padding =\"same\", input_shape = (1,10000)), \n",
    "    \n",
    "    #MaxPooling2D(filter size stride and pad can also be added)\n",
    "    MaxPooling1D(2, strides = 2, padding =\"same\"),\n",
    "    \n",
    "    #LAYER2\n",
    "    Conv1D(32, 3, activation = 'relu', padding =\"same\"),\n",
    "    MaxPooling1D(2, strides = 2, padding =\"same\"),\n",
    "    \n",
    "    #FLATTEN\n",
    "    Flatten(),\n",
    "    \n",
    "    #FC Layers:\n",
    "    \n",
    "    #LAYER3\n",
    "    #Dense : fully connected  Dense(#neurons, activation function )\n",
    "    Dense(64, activation = 'relu'),\n",
    "    Dropout(0.6),\n",
    "    \n",
    "    #LAYER4\n",
    "    Dense(3, activation = 'softmax'),\n",
    "    \n",
    "    \n",
    "])\n"
   ]
  },
  {
   "cell_type": "code",
   "execution_count": 53,
   "metadata": {},
   "outputs": [],
   "source": [
    "logdir = \"drive/MyDrive/PFE_TENSORBOARD_DATA/augmentation0/CNN1D/logs/scalars/\" + datetime.now().strftime(\"%Y%m%d-%H%M%S\")\n",
    "callbacks = [ tf.keras.callbacks.TensorBoard(log_dir=logdir),tf.keras.callbacks.EarlyStopping(monitor='val_sparse_categorical_accuracy',patience =60 ,min_delta=1e-3)]\n"
   ]
  },
  {
   "cell_type": "code",
   "execution_count": 54,
   "metadata": {},
   "outputs": [],
   "source": [
    "model.compile(loss = 'sparse_categorical_crossentropy', optimizer = 'adam', metrics = ['accuracy'])"
   ]
  },
  {
   "cell_type": "code",
   "execution_count": 55,
   "metadata": {},
   "outputs": [],
   "source": [
    "X_train = np.asarray(X_train)\n",
    "y_train = np.asarray(y_train)\n",
    "X_text = np.asarray(X_test)\n",
    "y_test = np.asarray(y_test)"
   ]
  },
  {
   "cell_type": "code",
   "execution_count": null,
   "metadata": {},
   "outputs": [
    {
     "name": "stdout",
     "output_type": "stream",
     "text": [
      "Epoch 1/60\n",
      "238/238 [==============================] - 32s 129ms/step - loss: 1.0506 - accuracy: 0.4588\n",
      "Epoch 2/60\n",
      "238/238 [==============================] - 31s 129ms/step - loss: 0.7149 - accuracy: 0.6873\n",
      "Epoch 3/60\n",
      "238/238 [==============================] - 31s 129ms/step - loss: 0.4245 - accuracy: 0.8320\n",
      "Epoch 4/60\n",
      "238/238 [==============================] - 31s 130ms/step - loss: 0.2705 - accuracy: 0.8999\n",
      "Epoch 5/60\n",
      "238/238 [==============================] - 37s 153ms/step - loss: 0.1861 - accuracy: 0.9331\n",
      "Epoch 6/60\n",
      "238/238 [==============================] - 30s 128ms/step - loss: 0.1521 - accuracy: 0.9466\n",
      "Epoch 7/60\n",
      "238/238 [==============================] - 39s 162ms/step - loss: 0.1341 - accuracy: 0.9528\n",
      "Epoch 8/60\n",
      "238/238 [==============================] - 31s 130ms/step - loss: 0.0907 - accuracy: 0.9686\n",
      "Epoch 9/60\n",
      "238/238 [==============================] - 32s 135ms/step - loss: 0.0961 - accuracy: 0.9682\n",
      "Epoch 10/60\n",
      "238/238 [==============================] - 31s 129ms/step - loss: 0.0780 - accuracy: 0.9724\n",
      "Epoch 11/60\n",
      "238/238 [==============================] - 30s 124ms/step - loss: 0.0855 - accuracy: 0.9717\n",
      "Epoch 12/60\n",
      "238/238 [==============================] - 29s 124ms/step - loss: 0.0788 - accuracy: 0.9735\n",
      "Epoch 13/60\n",
      "238/238 [==============================] - 30s 125ms/step - loss: 0.0593 - accuracy: 0.9797\n",
      "Epoch 14/60\n",
      "238/238 [==============================] - 31s 131ms/step - loss: 0.0644 - accuracy: 0.9792\n",
      "Epoch 15/60\n",
      "238/238 [==============================] - 30s 125ms/step - loss: 0.0501 - accuracy: 0.9832\n",
      "Epoch 16/60\n",
      "238/238 [==============================] - 30s 126ms/step - loss: 0.0533 - accuracy: 0.9821\n",
      "Epoch 17/60\n",
      "238/238 [==============================] - 29s 123ms/step - loss: 0.0752 - accuracy: 0.9756\n",
      "Epoch 18/60\n",
      "238/238 [==============================] - 30s 124ms/step - loss: 0.0429 - accuracy: 0.9861\n",
      "Epoch 19/60\n",
      "238/238 [==============================] - 29s 122ms/step - loss: 0.0374 - accuracy: 0.9873\n",
      "Epoch 20/60\n",
      "238/238 [==============================] - 29s 124ms/step - loss: 0.0456 - accuracy: 0.9857\n",
      "Epoch 21/60\n",
      "238/238 [==============================] - 29s 122ms/step - loss: 0.0707 - accuracy: 0.9775\n",
      "Epoch 22/60\n",
      "238/238 [==============================] - 29s 123ms/step - loss: 0.0435 - accuracy: 0.9866\n",
      "Epoch 23/60\n",
      "238/238 [==============================] - 30s 125ms/step - loss: 0.0271 - accuracy: 0.9914\n",
      "Epoch 24/60\n",
      "238/238 [==============================] - 32s 134ms/step - loss: 0.0308 - accuracy: 0.9904\n",
      "Epoch 25/60\n",
      "238/238 [==============================] - 32s 133ms/step - loss: 0.0666 - accuracy: 0.9797\n",
      "Epoch 26/60\n",
      "238/238 [==============================] - 42s 174ms/step - loss: 0.0407 - accuracy: 0.9873\n",
      "Epoch 27/60\n",
      "238/238 [==============================] - 41s 173ms/step - loss: 0.0288 - accuracy: 0.9908\n",
      "Epoch 28/60\n",
      "238/238 [==============================] - 44s 184ms/step - loss: 0.0368 - accuracy: 0.9879\n",
      "Epoch 29/60\n",
      "238/238 [==============================] - 36s 153ms/step - loss: 0.0399 - accuracy: 0.9870\n",
      "Epoch 30/60\n",
      "238/238 [==============================] - 35s 146ms/step - loss: 0.0594 - accuracy: 0.9817\n",
      "Epoch 31/60\n",
      "238/238 [==============================] - 32s 136ms/step - loss: 0.0272 - accuracy: 0.9914\n",
      "Epoch 32/60\n",
      "238/238 [==============================] - 31s 129ms/step - loss: 0.0234 - accuracy: 0.9928\n",
      "Epoch 33/60\n",
      "238/238 [==============================] - 32s 136ms/step - loss: 0.0266 - accuracy: 0.9914\n",
      "Epoch 34/60\n",
      "238/238 [==============================] - 32s 135ms/step - loss: 0.0397 - accuracy: 0.9886\n",
      "Epoch 35/60\n",
      "238/238 [==============================] - 31s 132ms/step - loss: 0.0433 - accuracy: 0.9865\n",
      "Epoch 36/60\n",
      "238/238 [==============================] - 33s 140ms/step - loss: 0.0329 - accuracy: 0.9900\n",
      "Epoch 37/60\n",
      "238/238 [==============================] - 34s 143ms/step - loss: 0.0289 - accuracy: 0.9909\n",
      "Epoch 38/60\n",
      "238/238 [==============================] - 33s 137ms/step - loss: 0.0254 - accuracy: 0.9921\n",
      "Epoch 39/60\n",
      "238/238 [==============================] - 35s 149ms/step - loss: 0.0348 - accuracy: 0.9900\n",
      "Epoch 40/60\n",
      "238/238 [==============================] - 35s 149ms/step - loss: 0.0298 - accuracy: 0.9910\n",
      "Epoch 41/60\n",
      "238/238 [==============================] - 31s 131ms/step - loss: 0.0295 - accuracy: 0.9903\n",
      "Epoch 42/60\n",
      "238/238 [==============================] - 31s 132ms/step - loss: 0.0313 - accuracy: 0.9913\n",
      "Epoch 43/60\n",
      "238/238 [==============================] - 32s 133ms/step - loss: 0.0291 - accuracy: 0.9915\n",
      "Epoch 44/60\n",
      "238/238 [==============================] - 33s 140ms/step - loss: 0.0247 - accuracy: 0.9924\n",
      "Epoch 45/60\n",
      "238/238 [==============================] - 33s 137ms/step - loss: 0.0257 - accuracy: 0.9935\n",
      "Epoch 46/60\n",
      "238/238 [==============================] - 32s 134ms/step - loss: 0.0230 - accuracy: 0.9932\n",
      "Epoch 47/60\n",
      "238/238 [==============================] - 31s 129ms/step - loss: 0.0312 - accuracy: 0.9913\n",
      "Epoch 48/60\n",
      "238/238 [==============================] - 31s 129ms/step - loss: 0.0309 - accuracy: 0.9905\n",
      "Epoch 49/60\n",
      "238/238 [==============================] - 31s 132ms/step - loss: 0.0209 - accuracy: 0.9941\n",
      "Epoch 50/60\n",
      "238/238 [==============================] - 31s 130ms/step - loss: 0.0344 - accuracy: 0.9902\n",
      "Epoch 51/60\n",
      "238/238 [==============================] - 31s 130ms/step - loss: 0.0168 - accuracy: 0.9954\n",
      "Epoch 52/60\n",
      "238/238 [==============================] - 31s 132ms/step - loss: 0.0109 - accuracy: 0.9964\n",
      "Epoch 53/60\n",
      "238/238 [==============================] - 33s 138ms/step - loss: 0.0183 - accuracy: 0.9942\n",
      "Epoch 54/60\n",
      "238/238 [==============================] - 33s 138ms/step - loss: 0.0466 - accuracy: 0.9871\n",
      "Epoch 55/60\n",
      "238/238 [==============================] - 32s 136ms/step - loss: 0.0209 - accuracy: 0.9944\n",
      "Epoch 56/60\n",
      "238/238 [==============================] - 30s 126ms/step - loss: 0.0115 - accuracy: 0.9970\n",
      "Epoch 57/60\n",
      "238/238 [==============================] - 28s 119ms/step - loss: 0.0295 - accuracy: 0.9923\n",
      "Epoch 58/60\n",
      "238/238 [==============================] - 28s 120ms/step - loss: 0.0303 - accuracy: 0.9916\n",
      "Epoch 59/60\n",
      "238/238 [==============================] - 28s 119ms/step - loss: 0.0141 - accuracy: 0.9964\n",
      "Epoch 60/60\n",
      "199/238 [========================>.....] - ETA: 4s - loss: 0.0178 - accuracy: 0.9947"
     ]
    }
   ],
   "source": [
    "model.fit(X_train, y_train, epochs =60, batch_size = 128)"
   ]
  },
  {
   "cell_type": "code",
   "execution_count": null,
   "metadata": {},
   "outputs": [],
   "source": [
    "score = model.evaluate(np.asarray(X_test),np.asarray (y_test))"
   ]
  },
  {
   "cell_type": "code",
   "execution_count": 198,
   "metadata": {},
   "outputs": [],
   "source": [
    "%reload_ext tensorboard"
   ]
  },
  {
   "cell_type": "code",
   "execution_count": 199,
   "metadata": {},
   "outputs": [
    {
     "data": {
      "text/plain": [
       "Reusing TensorBoard on port 6006 (pid 12412), started 4:22:36 ago. (Use '!kill 12412' to kill it.)"
      ]
     },
     "metadata": {},
     "output_type": "display_data"
    },
    {
     "data": {
      "text/html": [
       "\n",
       "      <iframe id=\"tensorboard-frame-705284c63f26a513\" width=\"100%\" height=\"800\" frameborder=\"0\">\n",
       "      </iframe>\n",
       "      <script>\n",
       "        (function() {\n",
       "          const frame = document.getElementById(\"tensorboard-frame-705284c63f26a513\");\n",
       "          const url = new URL(\"/\", window.location);\n",
       "          const port = 6006;\n",
       "          if (port) {\n",
       "            url.port = port;\n",
       "          }\n",
       "          frame.src = url;\n",
       "        })();\n",
       "      </script>\n",
       "    "
      ],
      "text/plain": [
       "<IPython.core.display.HTML object>"
      ]
     },
     "metadata": {},
     "output_type": "display_data"
    }
   ],
   "source": [
    "%tensorboard --logdir drive/MyDrive/PFE_TENSORBOARD_DATA/augmentation0/CNN1D/logs/scalars/"
   ]
  },
  {
   "cell_type": "code",
   "execution_count": null,
   "metadata": {},
   "outputs": [],
   "source": [
    "logdir = \"drive/MyDrive/PFE_TENSORBOARD_DATA/augmentation0/CNN1D/logs/scalars/\" + datetime.now().strftime(\"%Y%m%d-%H%M%S\")\n",
    "callbacks = [ tf.keras.callbacks.TensorBoard(log_dir=logdir),tf.keras.callbacks.EarlyStopping(monitor='val_sparse_categorical_accuracy',patience =60 ,min_delta=1e-3)]\n",
    "\n",
    "model.compile(\n",
    "    optimizer=\"adam\",\n",
    "    loss=\"sparse_categorical_crossentropy\",\n",
    "    metrics=[\"accuracy\"],\n",
    ")\n",
    "history = model.fit(\n",
    "    \n",
    "    x = np.asarray(X_train)  ,\n",
    "    y= np.asarray(y_train) ,\n",
    "    validation_split=0.1,\n",
    "    epochs=50,\n",
    "    batch_size=64,\n",
    "    callbacks=callbacks\n",
    "\n",
    "    )"
   ]
  },
  {
   "cell_type": "code",
   "execution_count": null,
   "metadata": {},
   "outputs": [],
   "source": [
    "score = model.evaluate(np.asarray(X_test),np.asarray (y_test) ) "
   ]
  },
  {
   "cell_type": "code",
   "execution_count": null,
   "metadata": {
    "id": "UcBPGVe5mc3z"
   },
   "outputs": [],
   "source": [
    "%load_ext tensorboard"
   ]
  },
  {
   "cell_type": "code",
   "execution_count": null,
   "metadata": {
    "id": "9lVVOd4Enim8"
   },
   "outputs": [],
   "source": [
    "%tensorboard --logdir drive/MyDrive/PFE_TENSORBOARD_DATA/augmentation0/CNN1D/logs/scalars/"
   ]
  },
  {
   "cell_type": "code",
   "execution_count": null,
   "metadata": {
    "id": "jQl97_0NpBXX"
   },
   "outputs": [],
   "source": [
    "model.save(\"/content/drive/MyDrive/PFE_RESULTS_DATA/augmentation0/scaling/CNN1D/CNN1D.h5\")"
   ]
  },
  {
   "cell_type": "code",
   "execution_count": null,
   "metadata": {
    "id": "53pvhyxLpwia"
   },
   "outputs": [],
   "source": [
    "import json\n",
    "\n",
    "with open('/content/drive/MyDrive/PFE_RESULTS_DATA/augmentation0/scaling/CNN1D/CNN1D_score.json', 'w+') as file:\n",
    "\n",
    "    json.dump(score, file)"
   ]
  },
  {
   "cell_type": "code",
   "execution_count": null,
   "metadata": {
    "id": "jFSDYnlvIrnb"
   },
   "outputs": [],
   "source": [
    "model= tf.keras.models.load_model(\"/content/drive/MyDrive/PFE_RESULTS_DATA/augmentation0/scaling/CNN1D/CNN1D.h5\")"
   ]
  },
  {
   "cell_type": "code",
   "execution_count": null,
   "metadata": {},
   "outputs": [],
   "source": [
    "tf.keras.utils.plot_model(\n",
    "    model,\n",
    "    show_shapes=True\n",
    "    )"
   ]
  },
  {
   "cell_type": "code",
   "execution_count": null,
   "metadata": {},
   "outputs": [],
   "source": [
    "y_pred = model.predict(np.asarray(X_test))"
   ]
  },
  {
   "cell_type": "code",
   "execution_count": null,
   "metadata": {},
   "outputs": [],
   "source": [
    "y_predicted_labels = [{0:\"Normal\",1:\"Neuropathie\",2:\"Myopathy\"}[i] for i in np.argmax(y_pred,axis=1)]"
   ]
  },
  {
   "cell_type": "code",
   "execution_count": null,
   "metadata": {},
   "outputs": [],
   "source": [
    "y_true_labels = [{0:\"Normal\",1:\"Neuropathie\",2:\"Myopathy\"}[i] for i in y_test]"
   ]
  },
  {
   "cell_type": "code",
   "execution_count": null,
   "metadata": {},
   "outputs": [],
   "source": [
    "import matplotlib.pyplot as plt\n",
    "import seaborn as sns\n",
    "\n",
    "con_mat = tf.math.confusion_matrix(labels=y_test, predictions=np.argmax(y_pred,axis=1)).numpy()\n",
    "con_mat_norm = np.around(con_mat.astype('float') / con_mat.sum(axis=1)[:, np.newaxis], decimals=2)\n",
    "\n",
    "con_mat_df = pd.DataFrame(con_mat_norm,\n",
    "                     index = [\"Normal\",\"Neuropathie\"], \n",
    "                     columns = [\"Normal\",\"Neuropathie\"])\n",
    "\n",
    "figure = plt.figure(figsize=(5,5))\n",
    "sns.heatmap(con_mat_df, annot=True,cmap=plt.cm.Blues)\n",
    "plt.tight_layout()\n",
    "plt.ylabel('True label')\n",
    "plt.xlabel('Predicted label')\n",
    "plt.show()\n"
   ]
  }
 ],
 "metadata": {
  "colab": {
   "provenance": []
  },
  "kernelspec": {
   "display_name": "Python 3 (ipykernel)",
   "language": "python",
   "name": "python3"
  },
  "language_info": {
   "codemirror_mode": {
    "name": "ipython",
    "version": 3
   },
   "file_extension": ".py",
   "mimetype": "text/x-python",
   "name": "python",
   "nbconvert_exporter": "python",
   "pygments_lexer": "ipython3",
   "version": "3.9.12"
  }
 },
 "nbformat": 4,
 "nbformat_minor": 1
}
