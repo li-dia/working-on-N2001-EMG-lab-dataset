{
 "cells": [
  {
   "cell_type": "code",
   "execution_count": 1,
   "metadata": {
    "id": "2m-VDw7J1u4K"
   },
   "outputs": [],
   "source": [
    "import scipy.io\n",
    "import tensorflow as tf\n",
    "import numpy as np\n",
    "from tensorflow import  keras\n",
    "from sklearn.preprocessing import MinMaxScaler,StandardScaler,scale\n",
    "from skimage.measure import block_reduce\n",
    "from tensorflow.keras import layers\n",
    "from sklearn.model_selection import train_test_split\n",
    "from datetime import datetime\n",
    "import pandas as pd\n",
    "import keras\n",
    "import matplotlib.pyplot as plt\n",
    "from tensorflow.keras.models import Sequential\n",
    "from tensorflow.keras.layers import Conv1D, MaxPooling1D, Dense, Flatten, Dropout"
   ]
  },
  {
   "cell_type": "code",
   "execution_count": 2,
   "metadata": {
    "id": "8Rwb_WUh105H"
   },
   "outputs": [],
   "source": [
    "def load_data():\n",
    "    als = scipy.io.loadmat('C:/Users/lenovo/OneDrive/Documents/drive-download-20230214T190624Z-001/ALS.mat',)[\"data\"].transpose()  #(262134, 321)\n",
    "    normal = scipy.io.loadmat('C:/Users/lenovo/OneDrive/Documents/drive-download-20230214T190624Z-001/normal.mat')['data'].transpose() # (262134, 270) \n",
    "    myopathie = scipy.io.loadmat('C:/Users/lenovo/OneDrive/Documents/drive-download-20230214T190624Z-001/myopathie.mat')['data'].transpose() #(262134, 315)\n",
    "    return als,normal,myopathie"
   ]
  },
  {
   "cell_type": "code",
   "execution_count": 3,
   "metadata": {
    "id": "lgHV-6wU12n5"
   },
   "outputs": [],
   "source": [
    "\n",
    "def scale_data_minmax(data):\n",
    "    scaler = MinMaxScaler()\n",
    "    normalized_data =scaler.fit_transform(data)\n",
    "    return normalized_data"
   ]
  },
  {
   "cell_type": "code",
   "execution_count": 4,
   "metadata": {
    "id": "bcIEKXLjciKr"
   },
   "outputs": [],
   "source": [
    "def scale_data_standard(data):\n",
    "    scaled_data = scale(data,axis=1)\n",
    "    return scaled_data"
   ]
  },
  {
   "cell_type": "code",
   "execution_count": 5,
   "metadata": {
    "id": "I_QR6IDs14Dm"
   },
   "outputs": [],
   "source": [
    "def gen_tensors_list(data,dim):\n",
    "    dataset  = list()\n",
    "    for i in range (len(data)):\n",
    "    arg = tf.convert_to_tensor(data[i], dtype=tf.float32)\n",
    "    arg = tf.reshape(arg,dim)\n",
    "    dataset.append(arg)\n",
    "    return dataset"
   ]
  },
  {
   "cell_type": "code",
   "execution_count": 6,
   "metadata": {
    "id": "gaSw9KLt15zX"
   },
   "outputs": [],
   "source": [
    "def windowing_fun(data,window_size=1000,overlap=100):\n",
    "    windowed_data = [data[j][i : i + window_size] for j in range(0,len(data)) for i in range(0, len(data[j]), window_size-overlap)]\n",
    "    final_data = [windowed_data[i] for i in range(len(windowed_data)) if len(windowed_data[i]) == window_size ]\n",
    "    return final_data"
   ]
  },
  {
   "cell_type": "code",
   "execution_count": 7,
   "metadata": {
    "id": "zKAC9ocbn33R"
   },
   "outputs": [],
   "source": [
    "def load_file_names():\n",
    "    als = scipy.io.loadmat('C:/Users/lenovo/OneDrive/Documents/drive-download-20230214T190624Z-001/ALS.mat',)[\"files\"]  #(262134, 321)\n",
    "    normal = scipy.io.loadmat('C:/Users/lenovo/OneDrive/Documents/drive-download-20230214T190624Z-001/normal.mat')['files'] # (262134, 270) \n",
    "    myopathie = scipy.io.loadmat('C:/Users/lenovo/OneDrive/Documents/drive-download-20230214T190624Z-001/myopathie.mat')['files'] #(262134, 315)\n",
    "    return als,normal,myopathie"
   ]
  },
  {
   "cell_type": "code",
   "execution_count": 16,
   "metadata": {
    "id": "CEcbdDJD36Ro"
   },
   "outputs": [],
   "source": [
    "def generate_dataframe(data,files):\n",
    "    df = pd.DataFrame([], columns=['type_signal',\"num_personne\",\"muscle\",\"num_enregistrement\",\"signal\"])\n",
    "    windowed_data = [{\"signal\": data[j],\"type_signal\":files[0][j][0][5],\"num_personne\": files[0][j][0][6:8],\"muscle\": files[0][j][0][8:10],\"num_enregistrement\":files[0][j][0][10:12] } for j in range(0,len(data)) ]\n",
    "    final_data = pd.DataFrame(windowed_data)\n",
    "    df = pd.concat([df,final_data], ignore_index=True)\n",
    "    return df"
   ]
  },
  {
   "cell_type": "code",
   "execution_count": 17,
   "metadata": {
    "id": "22ZQdg5FViHH"
   },
   "outputs": [],
   "source": [
    "als, normal , myopathie = load_data()"
   ]
  },
  {
   "cell_type": "code",
   "execution_count": 18,
   "metadata": {
    "id": "70ffS0nSn3u9"
   },
   "outputs": [],
   "source": [
    "alsfiles,normalfiles,myopathiefiles = load_file_names()"
   ]
  },
  {
   "cell_type": "code",
   "execution_count": 19,
   "metadata": {
    "id": "m3v-unfnVKTq"
   },
   "outputs": [],
   "source": [
    "df = generate_dataframe(np.vstack((normal,als,myopathie)),np.concatenate((normalfiles,alsfiles,myopathiefiles),axis=1))"
   ]
  },
  {
   "cell_type": "code",
   "execution_count": 20,
   "metadata": {
    "id": "AgRS2F9AVvDq"
   },
   "outputs": [],
   "source": [
    "def f(row):\n",
    "  return {\"C\":0,\"A\":1,\"M\":2}[row[\"type_signal\"]]\n",
    "\n",
    "df[\"num_class\"] =df.apply(f, axis=1) "
   ]
  },
  {
   "cell_type": "code",
   "execution_count": 21,
   "metadata": {
    "id": "MoeHi_gvST3W"
   },
   "outputs": [],
   "source": [
    "df = df.query(\"muscle=='BB'\")"
   ]
  },
  {
   "cell_type": "code",
   "execution_count": 205,
   "metadata": {
    "id": "4Zc_4AzmrQ3s"
   },
   "outputs": [],
   "source": [
    "X = df['signal'].tolist()\n",
    "Y = df['num_class'].tolist()"
   ]
  },
  {
   "cell_type": "code",
   "execution_count": 206,
   "metadata": {
    "id": "NYc4-mxsrLpm"
   },
   "outputs": [],
   "source": [
    "X=X[170:]\n",
    "Y=Y[170:]"
   ]
  },
  {
   "cell_type": "code",
   "execution_count": 207,
   "metadata": {
    "id": "aH0VoR_UE3yR"
   },
   "outputs": [],
   "source": [
    "del df"
   ]
  },
  {
   "cell_type": "code",
   "execution_count": 208,
   "metadata": {
    "id": "C0CR1uU2XRKo"
   },
   "outputs": [],
   "source": [
    "data = [*X]\n",
    "#data, np.shape(data)"
   ]
  },
  {
   "cell_type": "code",
   "execution_count": 209,
   "metadata": {
    "id": "n-GIqksRfZRm"
   },
   "outputs": [],
   "source": [
    "del  als,normal,myopathie,alsfiles,normalfiles,myopathiefiles "
   ]
  },
  {
   "cell_type": "code",
   "execution_count": 210,
   "metadata": {
    "id": "Blrv7OFwUm4c"
   },
   "outputs": [],
   "source": [
    "data = scale_data_standard(data)"
   ]
  },
  {
   "cell_type": "code",
   "execution_count": 211,
   "metadata": {
    "id": "Bcr4HAHp421F"
   },
   "outputs": [],
   "source": [
    "last_index_normal = len(Y) - 1 - Y[::-1].index(0)"
   ]
  },
  {
   "cell_type": "code",
   "execution_count": 212,
   "metadata": {
    "id": "dmru4zsF421H"
   },
   "outputs": [],
   "source": [
    "last_index_als = len(Y) - 1 - Y[::-1].index(1)"
   ]
  },
  {
   "cell_type": "code",
   "execution_count": 213,
   "metadata": {
    "id": "9tVZ_pi5421I"
   },
   "outputs": [],
   "source": [
    "last_index_myopathie = len(Y) - 1 - Y[::-1].index(2)"
   ]
  },
  {
   "cell_type": "code",
   "execution_count": 214,
   "metadata": {
    "id": "swCxixoS421I"
   },
   "outputs": [],
   "source": [
    "windowed_normal = len(windowing_fun(X[:last_index_normal+1],10000))\n",
    "windowed_als = len(windowing_fun(X[last_index_normal+1:last_index_als+1],10000))\n",
    "windowed_myopathie = len(windowing_fun(X[last_index_als+1:],10000))"
   ]
  },
  {
   "cell_type": "code",
   "execution_count": 215,
   "metadata": {
    "id": "GvWbyRyg421I"
   },
   "outputs": [],
   "source": [
    "Y = [0]*(windowed_normal)+[1]*(windowed_als)+[2]*(windowed_myopathie)"
   ]
  },
  {
   "cell_type": "code",
   "execution_count": 216,
   "metadata": {
    "id": "GTZzqak7rFWV"
   },
   "outputs": [],
   "source": [
    "Y  = Y*1"
   ]
  },
  {
   "cell_type": "code",
   "execution_count": 217,
   "metadata": {
    "id": "r_VgwyYfYWnt"
   },
   "outputs": [],
   "source": [
    "X = windowing_fun(data,10000)"
   ]
  },
  {
   "cell_type": "code",
   "execution_count": 218,
   "metadata": {
    "id": "BpKYgn3EkgsU"
   },
   "outputs": [],
   "source": [
    "del data"
   ]
  },
  {
   "cell_type": "code",
   "execution_count": 219,
   "metadata": {
    "id": "3B8PeUZaeeQC"
   },
   "outputs": [],
   "source": [
    "X = scale_data_standard(X)"
   ]
  },
  {
   "cell_type": "code",
   "execution_count": 220,
   "metadata": {
    "id": "Q1h0Nh9nlim8"
   },
   "outputs": [],
   "source": [
    "tensors_list = gen_tensors_list(X,(1,10000))"
   ]
  },
  {
   "cell_type": "code",
   "execution_count": 228,
   "metadata": {
    "id": "LAQNPWwyHK7g"
   },
   "outputs": [
    {
     "data": {
      "text/plain": [
       "((7612, 1, 10000), (318, 1, 10000))"
      ]
     },
     "execution_count": 228,
     "metadata": {},
     "output_type": "execute_result"
    }
   ],
   "source": [
    "X_train, X_test, y_train, y_test = train_test_split( tensors_list, Y, test_size=0.04,random_state=20)\n",
    "np.shape(X_train), np.shape(X_test)"
   ]
  },
  {
   "cell_type": "code",
   "execution_count": 229,
   "metadata": {},
   "outputs": [],
   "source": [
    "model = Sequential([\n",
    "    #Conv2D(#of filters, filters size, activation function)\n",
    "    #in keras for the first layer we always need to mention the input shape\n",
    "    Conv1D(64, 3, activation = 'relu', input_shape = (1,10000), padding='same'), \n",
    "    \n",
    "    #MaxPooling2D(filter size stride and pad can also be added)\n",
    "    MaxPooling1D(2, strides = 2, padding='same'),\n",
    "    Dropout(0.2),\n",
    "    \n",
    "    #LAYER2\n",
    "    Conv1D(32, 3, activation = 'relu', padding='same'),\n",
    "    MaxPooling1D(2, strides = 2, padding='same'),\n",
    "    Dropout(0.4),\n",
    "    \n",
    "    #FLATTEN\n",
    "    Flatten(),\n",
    "    \n",
    "    #FC Layers:\n",
    "    \n",
    "    #LAYER3\n",
    "    #Dense : fully connected  Dense(#neurons, activation function )\n",
    "    Dense(64, activation = 'relu'),\n",
    "    Dropout(0.6),\n",
    "    \n",
    "    #LAYER4\n",
    "    Dense(3, activation = 'softmax'),\n",
    "    \n",
    "    \n",
    "])\n"
   ]
  },
  {
   "cell_type": "code",
   "execution_count": 230,
   "metadata": {},
   "outputs": [],
   "source": [
    "logdir = \"drive/MyDrive/PFE_TENSORBOARD_DATA/augmentation0/CNN1D/logs/scalars/\" + datetime.now().strftime(\"%Y%m%d-%H%M%S\")\n",
    "callbacks = [ tf.keras.callbacks.TensorBoard(log_dir=logdir),tf.keras.callbacks.EarlyStopping(monitor='val_sparse_categorical_accuracy',patience =60 ,min_delta=1e-3)]\n"
   ]
  },
  {
   "cell_type": "code",
   "execution_count": 231,
   "metadata": {},
   "outputs": [],
   "source": [
    "model.compile(loss = 'sparse_categorical_crossentropy', optimizer = 'adam', metrics = ['accuracy'])"
   ]
  },
  {
   "cell_type": "code",
   "execution_count": 232,
   "metadata": {},
   "outputs": [],
   "source": [
    "X_train = np.asarray(X_train)\n",
    "y_train = np.asarray(y_train)\n",
    "X_text = np.asarray(X_test)\n",
    "y_test = np.asarray(y_test)"
   ]
  },
  {
   "cell_type": "code",
   "execution_count": 233,
   "metadata": {},
   "outputs": [
    {
     "name": "stdout",
     "output_type": "stream",
     "text": [
      "Epoch 1/50\n",
      "60/60 [==============================] - 12s 163ms/step - loss: 1.2741 - accuracy: 0.3318\n",
      "Epoch 2/50\n",
      "60/60 [==============================] - 10s 159ms/step - loss: 1.1378 - accuracy: 0.3492\n",
      "Epoch 3/50\n",
      "60/60 [==============================] - 9s 154ms/step - loss: 1.1013 - accuracy: 0.3739\n",
      "Epoch 4/50\n",
      "60/60 [==============================] - 9s 158ms/step - loss: 1.0973 - accuracy: 0.3760\n",
      "Epoch 5/50\n",
      "60/60 [==============================] - 10s 161ms/step - loss: 1.0919 - accuracy: 0.3802\n",
      "Epoch 6/50\n",
      "60/60 [==============================] - 10s 162ms/step - loss: 1.0833 - accuracy: 0.3916\n",
      "Epoch 7/50\n",
      "60/60 [==============================] - 10s 165ms/step - loss: 1.0748 - accuracy: 0.4045\n",
      "Epoch 8/50\n",
      "60/60 [==============================] - 10s 160ms/step - loss: 1.0603 - accuracy: 0.4263\n",
      "Epoch 9/50\n",
      "60/60 [==============================] - 9s 157ms/step - loss: 1.0519 - accuracy: 0.4364\n",
      "Epoch 10/50\n",
      "60/60 [==============================] - 9s 156ms/step - loss: 1.0461 - accuracy: 0.4480\n",
      "Epoch 11/50\n",
      "60/60 [==============================] - 9s 156ms/step - loss: 1.0225 - accuracy: 0.4703\n",
      "Epoch 12/50\n",
      "60/60 [==============================] - 9s 155ms/step - loss: 1.0137 - accuracy: 0.4815\n",
      "Epoch 13/50\n",
      "60/60 [==============================] - 9s 156ms/step - loss: 0.9916 - accuracy: 0.4934\n",
      "Epoch 14/50\n",
      "60/60 [==============================] - 11s 189ms/step - loss: 0.9793 - accuracy: 0.5049\n",
      "Epoch 15/50\n",
      "60/60 [==============================] - 11s 184ms/step - loss: 0.9624 - accuracy: 0.5147\n",
      "Epoch 16/50\n",
      "60/60 [==============================] - 11s 189ms/step - loss: 0.9395 - accuracy: 0.5326\n",
      "Epoch 17/50\n",
      "60/60 [==============================] - 10s 166ms/step - loss: 0.9322 - accuracy: 0.5385\n",
      "Epoch 18/50\n",
      "60/60 [==============================] - 9s 153ms/step - loss: 0.9139 - accuracy: 0.5518\n",
      "Epoch 19/50\n",
      "60/60 [==============================] - 9s 155ms/step - loss: 0.9116 - accuracy: 0.5539\n",
      "Epoch 20/50\n",
      "60/60 [==============================] - 10s 159ms/step - loss: 0.8831 - accuracy: 0.5608\n",
      "Epoch 21/50\n",
      "60/60 [==============================] - 9s 155ms/step - loss: 0.8617 - accuracy: 0.5799\n",
      "Epoch 22/50\n",
      "60/60 [==============================] - 9s 155ms/step - loss: 0.8550 - accuracy: 0.5801\n",
      "Epoch 23/50\n",
      "60/60 [==============================] - 9s 156ms/step - loss: 0.8337 - accuracy: 0.5947\n",
      "Epoch 24/50\n",
      "60/60 [==============================] - 9s 157ms/step - loss: 0.8219 - accuracy: 0.5997\n",
      "Epoch 25/50\n",
      "60/60 [==============================] - 10s 161ms/step - loss: 0.8066 - accuracy: 0.6030\n",
      "Epoch 26/50\n",
      "60/60 [==============================] - 9s 155ms/step - loss: 0.7974 - accuracy: 0.6164\n",
      "Epoch 27/50\n",
      "60/60 [==============================] - 9s 154ms/step - loss: 0.8012 - accuracy: 0.6135\n",
      "Epoch 28/50\n",
      "60/60 [==============================] - 9s 154ms/step - loss: 0.7727 - accuracy: 0.6306\n",
      "Epoch 29/50\n",
      "60/60 [==============================] - 9s 156ms/step - loss: 0.7556 - accuracy: 0.6354\n",
      "Epoch 30/50\n",
      "60/60 [==============================] - 10s 162ms/step - loss: 0.7509 - accuracy: 0.6375\n",
      "Epoch 31/50\n",
      "60/60 [==============================] - 11s 178ms/step - loss: 0.7293 - accuracy: 0.6499\n",
      "Epoch 32/50\n",
      "60/60 [==============================] - 9s 157ms/step - loss: 0.7288 - accuracy: 0.6490\n",
      "Epoch 33/50\n",
      "60/60 [==============================] - 10s 160ms/step - loss: 0.7115 - accuracy: 0.6563\n",
      "Epoch 34/50\n",
      "60/60 [==============================] - 9s 155ms/step - loss: 0.7015 - accuracy: 0.6612\n",
      "Epoch 35/50\n",
      "60/60 [==============================] - 10s 159ms/step - loss: 0.6910 - accuracy: 0.6695\n",
      "Epoch 36/50\n",
      "60/60 [==============================] - 9s 157ms/step - loss: 0.6850 - accuracy: 0.6772\n",
      "Epoch 37/50\n",
      "60/60 [==============================] - 9s 157ms/step - loss: 0.6604 - accuracy: 0.6864\n",
      "Epoch 38/50\n",
      "60/60 [==============================] - 9s 158ms/step - loss: 0.6650 - accuracy: 0.6881\n",
      "Epoch 39/50\n",
      "60/60 [==============================] - 9s 157ms/step - loss: 0.6524 - accuracy: 0.7027\n",
      "Epoch 40/50\n",
      "60/60 [==============================] - 9s 157ms/step - loss: 0.6303 - accuracy: 0.7109\n",
      "Epoch 41/50\n",
      "60/60 [==============================] - 10s 160ms/step - loss: 0.6196 - accuracy: 0.7193\n",
      "Epoch 42/50\n",
      "60/60 [==============================] - 10s 161ms/step - loss: 0.6264 - accuracy: 0.7214\n",
      "Epoch 43/50\n",
      "60/60 [==============================] - 10s 158ms/step - loss: 0.5953 - accuracy: 0.7331\n",
      "Epoch 44/50\n",
      "60/60 [==============================] - 9s 155ms/step - loss: 0.5881 - accuracy: 0.7334\n",
      "Epoch 45/50\n",
      "60/60 [==============================] - 9s 158ms/step - loss: 0.5761 - accuracy: 0.7352\n",
      "Epoch 46/50\n",
      "60/60 [==============================] - 10s 161ms/step - loss: 0.5721 - accuracy: 0.7405\n",
      "Epoch 47/50\n",
      "60/60 [==============================] - 9s 156ms/step - loss: 0.5766 - accuracy: 0.7468\n",
      "Epoch 48/50\n",
      "60/60 [==============================] - 10s 163ms/step - loss: 0.5462 - accuracy: 0.7562\n",
      "Epoch 49/50\n",
      "60/60 [==============================] - 9s 158ms/step - loss: 0.5430 - accuracy: 0.7641\n",
      "Epoch 50/50\n",
      "60/60 [==============================] - 9s 157ms/step - loss: 0.5440 - accuracy: 0.7571\n"
     ]
    },
    {
     "data": {
      "text/plain": [
       "<keras.callbacks.History at 0x29f67498820>"
      ]
     },
     "execution_count": 233,
     "metadata": {},
     "output_type": "execute_result"
    }
   ],
   "source": [
    "model.fit(X_train, y_train, epochs =50, batch_size = 128)"
   ]
  },
  {
   "cell_type": "code",
   "execution_count": 234,
   "metadata": {},
   "outputs": [
    {
     "name": "stdout",
     "output_type": "stream",
     "text": [
      "10/10 [==============================] - 1s 8ms/step - loss: 1.7098 - accuracy: 0.3333\n"
     ]
    }
   ],
   "source": [
    "score = model.evaluate(np.asarray(X_test),np.asarray (y_test))"
   ]
  },
  {
   "cell_type": "code",
   "execution_count": 198,
   "metadata": {},
   "outputs": [],
   "source": [
    "%reload_ext tensorboard"
   ]
  },
  {
   "cell_type": "code",
   "execution_count": 199,
   "metadata": {},
   "outputs": [
    {
     "data": {
      "text/plain": [
       "Reusing TensorBoard on port 6006 (pid 12412), started 4:22:36 ago. (Use '!kill 12412' to kill it.)"
      ]
     },
     "metadata": {},
     "output_type": "display_data"
    },
    {
     "data": {
      "text/html": [
       "\n",
       "      <iframe id=\"tensorboard-frame-705284c63f26a513\" width=\"100%\" height=\"800\" frameborder=\"0\">\n",
       "      </iframe>\n",
       "      <script>\n",
       "        (function() {\n",
       "          const frame = document.getElementById(\"tensorboard-frame-705284c63f26a513\");\n",
       "          const url = new URL(\"/\", window.location);\n",
       "          const port = 6006;\n",
       "          if (port) {\n",
       "            url.port = port;\n",
       "          }\n",
       "          frame.src = url;\n",
       "        })();\n",
       "      </script>\n",
       "    "
      ],
      "text/plain": [
       "<IPython.core.display.HTML object>"
      ]
     },
     "metadata": {},
     "output_type": "display_data"
    }
   ],
   "source": [
    "%tensorboard --logdir drive/MyDrive/PFE_TENSORBOARD_DATA/augmentation0/CNN1D/logs/scalars/"
   ]
  },
  {
   "cell_type": "code",
   "execution_count": null,
   "metadata": {
    "id": "UcBPGVe5mc3z"
   },
   "outputs": [],
   "source": [
    "with open('/content/drive/MyDrive/SAVED_DATA/healthy_malade/augmentation4/x_train.npy', 'wb') as f:\n",
    "    np.save(f, np.asarray(X_train))"
   ]
  },
  {
   "cell_type": "code",
   "execution_count": null,
   "metadata": {
    "id": "9lVVOd4Enim8"
   },
   "outputs": [],
   "source": [
    "with open('/content/drive/MyDrive/SAVED_DATA/healthy_malade/augmentation4/x_test.npy', 'wb') as f:\n",
    "    np.save(f, np.asarray(X_test))"
   ]
  },
  {
   "cell_type": "code",
   "execution_count": null,
   "metadata": {
    "id": "jQl97_0NpBXX"
   },
   "outputs": [],
   "source": [
    "with open('/content/drive/MyDrive/SAVED_DATA/healthy_malade/augmentation4/y_train.npy', 'wb') as f:\n",
    "    np.save(f, np.asarray(y_train))"
   ]
  },
  {
   "cell_type": "code",
   "execution_count": null,
   "metadata": {
    "id": "53pvhyxLpwia"
   },
   "outputs": [],
   "source": [
    "with open('/content/drive/MyDrive/SAVED_DATA/healthy_malade/augmentation4/y_test.npy', 'wb') as f:\n",
    "    np.save(f, np.asarray(y_test))"
   ]
  },
  {
   "cell_type": "code",
   "execution_count": null,
   "metadata": {
    "id": "jFSDYnlvIrnb"
   },
   "outputs": [],
   "source": []
  }
 ],
 "metadata": {
  "colab": {
   "provenance": []
  },
  "kernelspec": {
   "display_name": "Python 3 (ipykernel)",
   "language": "python",
   "name": "python3"
  },
  "language_info": {
   "codemirror_mode": {
    "name": "ipython",
    "version": 3
   },
   "file_extension": ".py",
   "mimetype": "text/x-python",
   "name": "python",
   "nbconvert_exporter": "python",
   "pygments_lexer": "ipython3",
   "version": "3.9.12"
  }
 },
 "nbformat": 4,
 "nbformat_minor": 1
}
