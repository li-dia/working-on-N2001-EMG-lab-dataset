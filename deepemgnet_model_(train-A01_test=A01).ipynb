{
 "cells": [
  {
   "cell_type": "code",
   "execution_count": 1,
   "metadata": {
    "id": "2m-VDw7J1u4K"
   },
   "outputs": [],
   "source": [
    "import scipy.io\n",
    "import tensorflow as tf\n",
    "import numpy as np\n",
    "from tensorflow import  keras\n",
    "from keras.callbacks import TensorBoard\n",
    "from sklearn.preprocessing import MinMaxScaler,StandardScaler,scale\n",
    "from skimage.measure import block_reduce\n",
    "from tensorflow.keras import layers\n",
    "from sklearn.model_selection import train_test_split\n",
    "from datetime import datetime\n",
    "import pandas as pd\n",
    "import os\n",
    "import matplotlib.pyplot as plt\n",
    "from tensorflow.keras.models import Sequential\n",
    "from tensorflow.keras.layers import Conv1D, MaxPooling1D, Dense, Flatten, Dropout"
   ]
  },
  {
   "cell_type": "code",
   "execution_count": 2,
   "metadata": {
    "id": "8Rwb_WUh105H"
   },
   "outputs": [],
   "source": [
    "def load_data():\n",
    "    als = scipy.io.loadmat('C:/Users/lenovo/OneDrive/Documents/drive-download-20230214T190624Z-001/ALS.mat',)[\"data\"].transpose()  #(262134, 321)\n",
    "    normal = scipy.io.loadmat('C:/Users/lenovo/OneDrive/Documents/drive-download-20230214T190624Z-001/normal.mat')['data'].transpose() # (262134, 270) \n",
    "    myopathy = scipy.io.loadmat('C:/Users/lenovo/OneDrive/Documents/drive-download-20230214T190624Z-001/myopathie.mat')['data'].transpose() #(262134, 315)\n",
    "    return als,normal,myopathy"
   ]
  },
  {
   "cell_type": "code",
   "execution_count": 3,
   "metadata": {
    "id": "lgHV-6wU12n5"
   },
   "outputs": [],
   "source": [
    "\n",
    "def scale_data_minmax(data):\n",
    "#type of scaler that scales the minimum and maximum values to be 0 and 1 respectively. \n",
    "    scaler = MinMaxScaler()\n",
    "#fit_transform() then it will calculate the mean(μ) and standard deviation(σ) of the feature F at a time it will transform the data points of the feature F.    \n",
    "    normalized_data =scaler.fit_transform(data)\n",
    "\n",
    "\n",
    "    return normalized_data"
   ]
  },
  {
   "cell_type": "code",
   "execution_count": 71,
   "metadata": {
    "id": "bcIEKXLjciKr"
   },
   "outputs": [],
   "source": [
    "def scale_data_standard(data):\n",
    "    data_array = np.array(data)\n",
    "    data_reshaped = data_array.reshape(-1, data_array.shape[-1])\n",
    "    #divide by variance and subtract mean for data \n",
    "    scaled_data = scale(data_reshaped, axis=0)\n",
    "    return scaled_data\n"
   ]
  },
  {
   "cell_type": "code",
   "execution_count": 5,
   "metadata": {
    "id": "I_QR6IDs14Dm"
   },
   "outputs": [],
   "source": [
    "def gen_tensors_list(data,dim):\n",
    "    dataset  = list()\n",
    "    for i in range (len(data)):\n",
    "        arg = tf.convert_to_tensor(data[i], dtype=tf.float32)\n",
    "        arg = tf.reshape(arg,dim)\n",
    "        dataset.append(arg)\n",
    "\n",
    "    return dataset"
   ]
  },
  {
   "cell_type": "code",
   "execution_count": 74,
   "metadata": {
    "id": "gaSw9KLt15zX"
   },
   "outputs": [],
   "source": [
    "#def windowing_fun(data,window_size=1000,overlap=100):\n",
    "#    windowed_data = [data[j][i : i + window_size] for j in range(0,len(data)) for i in range(0, len(data[j]), window_size-overlap)]\n",
    "#    final_data = [windowed_data[i] for i in range(len(windowed_data)) if len(windowed_data[i]) == window_size ]\n",
    "#    return final_data\n",
    "def windowing_fun(data, window_size=1000, overlap=100):\n",
    "    # Add a new axis to the data\n",
    "    data = np.array(data)[:, :, np.newaxis]\n",
    "    windowed_data = [d[:,2:] for d in data] # exclude first two columns\n",
    "    windowed_data = [w[i : i + window_size] for w in windowed_data for i in range(0, len(w), window_size-overlap)]\n",
    "    final_data = [w for w in windowed_data if w.shape[0] == window_size ]\n",
    "    return final_data\n"
   ]
  },
  {
   "cell_type": "code",
   "execution_count": 285,
   "metadata": {},
   "outputs": [],
   "source": [
    "def windowing_fun_(data,window_size=1000,overlap=100):\n",
    "    print(data.shape)\n",
    "    data = np.squeeze(data, axis=1)\n",
    "    print(data.shape)\n",
    "    windowed_data = [data[j][i : i + window_size] for j in range(0,len(data)) for i in range(0, len(data[j]), window_size-overlap)]\n",
    "    print(\"WD\",windowed_data.shape)\n",
    "    final_data = [windowed_data[i] for i in range(len(windowed_data)) if len(windowed_data[i]) == window_size ]\n",
    "    #print(final_data)\n",
    "    return final_data"
   ]
  },
  {
   "cell_type": "code",
   "execution_count": 7,
   "metadata": {
    "id": "zKAC9ocbn33R"
   },
   "outputs": [],
   "source": [
    "def load_file_names():\n",
    "    als = scipy.io.loadmat('C:/Users/lenovo/OneDrive/Documents/drive-download-20230214T190624Z-001/ALS.mat',)[\"files\"]  #(262134, 321)\n",
    "    normal = scipy.io.loadmat('C:/Users/lenovo/OneDrive/Documents/drive-download-20230214T190624Z-001/normal.mat')['files'] # (262134, 270) \n",
    "    myopathy = scipy.io.loadmat('C:/Users/lenovo/OneDrive/Documents/drive-download-20230214T190624Z-001/myopathie.mat')['files'] #(262134, 315)\n",
    "    return als,normal,myopathy"
   ]
  },
  {
   "cell_type": "code",
   "execution_count": 8,
   "metadata": {
    "id": "CEcbdDJD36Ro"
   },
   "outputs": [],
   "source": [
    "def generate_dataframe(data,files):\n",
    "    df = pd.DataFrame([], columns=['type_signal',\"num_personne\",\"muscle\",\"num_enregistrement\",\"signal\"])\n",
    "    windowed_data = [{\"signal\": data[j],\"type_signal\":files[0][j][0][5],\"num_personne\": files[0][j][0][6:8],\"muscle\": files[0][j][0][8:10],\"num_enregistrement\":files[0][j][0][10:12] } for j in range(0,len(data)) ]\n",
    "    final_data = pd.DataFrame(windowed_data)\n",
    "    #df =df.append(final_data, ignore_index=True)\n",
    "    #df =pd.concat([df, final_data])\n",
    "    df = pd.concat([df, final_data], ignore_index=True)\n",
    "    return df"
   ]
  },
  {
   "cell_type": "code",
   "execution_count": 196,
   "metadata": {
    "id": "22ZQdg5FViHH"
   },
   "outputs": [],
   "source": [
    "als, normal, myopathie = load_data()"
   ]
  },
  {
   "cell_type": "code",
   "execution_count": 197,
   "metadata": {
    "id": "70ffS0nSn3u9"
   },
   "outputs": [],
   "source": [
    "alsfiles,normalfiles,myopathiefiles = load_file_names()"
   ]
  },
  {
   "cell_type": "code",
   "execution_count": 198,
   "metadata": {
    "id": "m3v-unfnVKTq"
   },
   "outputs": [],
   "source": [
    "df = generate_dataframe(np.vstack((normal,als,myopathie)),np.concatenate((normalfiles,alsfiles,myopathiefiles),axis=1))"
   ]
  },
  {
   "cell_type": "code",
   "execution_count": 199,
   "metadata": {
    "id": "AgRS2F9AVvDq"
   },
   "outputs": [],
   "source": [
    "def f(row):\n",
    "    return {\"C\":0,\"A\":1,\"M\":2}[row[\"type_signal\"]]\n",
    "\n",
    "df[\"num_class\"] =df.apply(f, axis=1) "
   ]
  },
  {
   "cell_type": "code",
   "execution_count": 200,
   "metadata": {},
   "outputs": [
    {
     "data": {
      "text/html": [
       "<div>\n",
       "<style scoped>\n",
       "    .dataframe tbody tr th:only-of-type {\n",
       "        vertical-align: middle;\n",
       "    }\n",
       "\n",
       "    .dataframe tbody tr th {\n",
       "        vertical-align: top;\n",
       "    }\n",
       "\n",
       "    .dataframe thead th {\n",
       "        text-align: right;\n",
       "    }\n",
       "</style>\n",
       "<table border=\"1\" class=\"dataframe\">\n",
       "  <thead>\n",
       "    <tr style=\"text-align: right;\">\n",
       "      <th></th>\n",
       "      <th>type_signal</th>\n",
       "      <th>num_personne</th>\n",
       "      <th>muscle</th>\n",
       "      <th>num_enregistrement</th>\n",
       "      <th>signal</th>\n",
       "      <th>num_class</th>\n",
       "    </tr>\n",
       "  </thead>\n",
       "  <tbody>\n",
       "    <tr>\n",
       "      <th>0</th>\n",
       "      <td>C</td>\n",
       "      <td>01</td>\n",
       "      <td>BB</td>\n",
       "      <td>51</td>\n",
       "      <td>[0.07629510948348212, 1.0681315327687495, -5.6...</td>\n",
       "      <td>0</td>\n",
       "    </tr>\n",
       "    <tr>\n",
       "      <th>1</th>\n",
       "      <td>C</td>\n",
       "      <td>01</td>\n",
       "      <td>BB</td>\n",
       "      <td>52</td>\n",
       "      <td>[292.2102693217365, 288.2429236285954, 287.785...</td>\n",
       "      <td>0</td>\n",
       "    </tr>\n",
       "    <tr>\n",
       "      <th>2</th>\n",
       "      <td>C</td>\n",
       "      <td>01</td>\n",
       "      <td>BB</td>\n",
       "      <td>53</td>\n",
       "      <td>[-31.204699778744185, -29.373617151140614, -28...</td>\n",
       "      <td>0</td>\n",
       "    </tr>\n",
       "    <tr>\n",
       "      <th>3</th>\n",
       "      <td>C</td>\n",
       "      <td>01</td>\n",
       "      <td>BB</td>\n",
       "      <td>54</td>\n",
       "      <td>[-1.2207217517357138, 2.2888532845044636, -3.2...</td>\n",
       "      <td>0</td>\n",
       "    </tr>\n",
       "    <tr>\n",
       "      <th>4</th>\n",
       "      <td>C</td>\n",
       "      <td>01</td>\n",
       "      <td>BB</td>\n",
       "      <td>55</td>\n",
       "      <td>[13.275349050125888, 10.376134889753567, 10.98...</td>\n",
       "      <td>0</td>\n",
       "    </tr>\n",
       "    <tr>\n",
       "      <th>...</th>\n",
       "      <td>...</td>\n",
       "      <td>...</td>\n",
       "      <td>...</td>\n",
       "      <td>...</td>\n",
       "      <td>...</td>\n",
       "      <td>...</td>\n",
       "    </tr>\n",
       "    <tr>\n",
       "      <th>901</th>\n",
       "      <td>M</td>\n",
       "      <td>07</td>\n",
       "      <td>VM</td>\n",
       "      <td>15</td>\n",
       "      <td>[0.22888532845044635, 0.15259021896696423, 2.3...</td>\n",
       "      <td>2</td>\n",
       "    </tr>\n",
       "    <tr>\n",
       "      <th>902</th>\n",
       "      <td>M</td>\n",
       "      <td>07</td>\n",
       "      <td>VM</td>\n",
       "      <td>16</td>\n",
       "      <td>[-0.07629510948348212, 3.1280994888227664, 4.9...</td>\n",
       "      <td>2</td>\n",
       "    </tr>\n",
       "    <tr>\n",
       "      <th>903</th>\n",
       "      <td>M</td>\n",
       "      <td>07</td>\n",
       "      <td>VM</td>\n",
       "      <td>17</td>\n",
       "      <td>[-30.518043793392845, -32.73060196841383, -28....</td>\n",
       "      <td>2</td>\n",
       "    </tr>\n",
       "    <tr>\n",
       "      <th>904</th>\n",
       "      <td>M</td>\n",
       "      <td>07</td>\n",
       "      <td>VM</td>\n",
       "      <td>18</td>\n",
       "      <td>[-63.17235065232319, -66.75822079804685, -70.7...</td>\n",
       "      <td>2</td>\n",
       "    </tr>\n",
       "    <tr>\n",
       "      <th>905</th>\n",
       "      <td>M</td>\n",
       "      <td>07</td>\n",
       "      <td>VM</td>\n",
       "      <td>19</td>\n",
       "      <td>[6.86655985351339, 7.858396276798658, 8.316166...</td>\n",
       "      <td>2</td>\n",
       "    </tr>\n",
       "  </tbody>\n",
       "</table>\n",
       "<p>906 rows × 6 columns</p>\n",
       "</div>"
      ],
      "text/plain": [
       "    type_signal num_personne muscle num_enregistrement  \\\n",
       "0             C           01     BB                 51   \n",
       "1             C           01     BB                 52   \n",
       "2             C           01     BB                 53   \n",
       "3             C           01     BB                 54   \n",
       "4             C           01     BB                 55   \n",
       "..          ...          ...    ...                ...   \n",
       "901           M           07     VM                 15   \n",
       "902           M           07     VM                 16   \n",
       "903           M           07     VM                 17   \n",
       "904           M           07     VM                 18   \n",
       "905           M           07     VM                 19   \n",
       "\n",
       "                                                signal  num_class  \n",
       "0    [0.07629510948348212, 1.0681315327687495, -5.6...          0  \n",
       "1    [292.2102693217365, 288.2429236285954, 287.785...          0  \n",
       "2    [-31.204699778744185, -29.373617151140614, -28...          0  \n",
       "3    [-1.2207217517357138, 2.2888532845044636, -3.2...          0  \n",
       "4    [13.275349050125888, 10.376134889753567, 10.98...          0  \n",
       "..                                                 ...        ...  \n",
       "901  [0.22888532845044635, 0.15259021896696423, 2.3...          2  \n",
       "902  [-0.07629510948348212, 3.1280994888227664, 4.9...          2  \n",
       "903  [-30.518043793392845, -32.73060196841383, -28....          2  \n",
       "904  [-63.17235065232319, -66.75822079804685, -70.7...          2  \n",
       "905  [6.86655985351339, 7.858396276798658, 8.316166...          2  \n",
       "\n",
       "[906 rows x 6 columns]"
      ]
     },
     "execution_count": 200,
     "metadata": {},
     "output_type": "execute_result"
    }
   ],
   "source": [
    "df"
   ]
  },
  {
   "cell_type": "code",
   "execution_count": 201,
   "metadata": {
    "id": "MoeHi_gvST3W"
   },
   "outputs": [],
   "source": [
    "df = df.query(\"muscle=='BB'\")"
   ]
  },
  {
   "cell_type": "code",
   "execution_count": 202,
   "metadata": {},
   "outputs": [
    {
     "data": {
      "text/html": [
       "<div>\n",
       "<style scoped>\n",
       "    .dataframe tbody tr th:only-of-type {\n",
       "        vertical-align: middle;\n",
       "    }\n",
       "\n",
       "    .dataframe tbody tr th {\n",
       "        vertical-align: top;\n",
       "    }\n",
       "\n",
       "    .dataframe thead th {\n",
       "        text-align: right;\n",
       "    }\n",
       "</style>\n",
       "<table border=\"1\" class=\"dataframe\">\n",
       "  <thead>\n",
       "    <tr style=\"text-align: right;\">\n",
       "      <th></th>\n",
       "      <th>type_signal</th>\n",
       "      <th>num_personne</th>\n",
       "      <th>muscle</th>\n",
       "      <th>num_enregistrement</th>\n",
       "      <th>signal</th>\n",
       "      <th>num_class</th>\n",
       "    </tr>\n",
       "  </thead>\n",
       "  <tbody>\n",
       "    <tr>\n",
       "      <th>0</th>\n",
       "      <td>C</td>\n",
       "      <td>01</td>\n",
       "      <td>BB</td>\n",
       "      <td>51</td>\n",
       "      <td>[0.07629510948348212, 1.0681315327687495, -5.6...</td>\n",
       "      <td>0</td>\n",
       "    </tr>\n",
       "    <tr>\n",
       "      <th>1</th>\n",
       "      <td>C</td>\n",
       "      <td>01</td>\n",
       "      <td>BB</td>\n",
       "      <td>52</td>\n",
       "      <td>[292.2102693217365, 288.2429236285954, 287.785...</td>\n",
       "      <td>0</td>\n",
       "    </tr>\n",
       "    <tr>\n",
       "      <th>2</th>\n",
       "      <td>C</td>\n",
       "      <td>01</td>\n",
       "      <td>BB</td>\n",
       "      <td>53</td>\n",
       "      <td>[-31.204699778744185, -29.373617151140614, -28...</td>\n",
       "      <td>0</td>\n",
       "    </tr>\n",
       "    <tr>\n",
       "      <th>3</th>\n",
       "      <td>C</td>\n",
       "      <td>01</td>\n",
       "      <td>BB</td>\n",
       "      <td>54</td>\n",
       "      <td>[-1.2207217517357138, 2.2888532845044636, -3.2...</td>\n",
       "      <td>0</td>\n",
       "    </tr>\n",
       "    <tr>\n",
       "      <th>4</th>\n",
       "      <td>C</td>\n",
       "      <td>01</td>\n",
       "      <td>BB</td>\n",
       "      <td>55</td>\n",
       "      <td>[13.275349050125888, 10.376134889753567, 10.98...</td>\n",
       "      <td>0</td>\n",
       "    </tr>\n",
       "    <tr>\n",
       "      <th>...</th>\n",
       "      <td>...</td>\n",
       "      <td>...</td>\n",
       "      <td>...</td>\n",
       "      <td>...</td>\n",
       "      <td>...</td>\n",
       "      <td>...</td>\n",
       "    </tr>\n",
       "    <tr>\n",
       "      <th>863</th>\n",
       "      <td>M</td>\n",
       "      <td>07</td>\n",
       "      <td>BB</td>\n",
       "      <td>18</td>\n",
       "      <td>[1.9073777370870528, 2.059967956054017, 3.8910...</td>\n",
       "      <td>2</td>\n",
       "    </tr>\n",
       "    <tr>\n",
       "      <th>864</th>\n",
       "      <td>M</td>\n",
       "      <td>07</td>\n",
       "      <td>BB</td>\n",
       "      <td>19</td>\n",
       "      <td>[-8.010986495765621, -4.425116350041963, -7.01...</td>\n",
       "      <td>2</td>\n",
       "    </tr>\n",
       "    <tr>\n",
       "      <th>865</th>\n",
       "      <td>M</td>\n",
       "      <td>07</td>\n",
       "      <td>BB</td>\n",
       "      <td>20</td>\n",
       "      <td>[13.885709925993744, 10.986495765621424, 9.231...</td>\n",
       "      <td>2</td>\n",
       "    </tr>\n",
       "    <tr>\n",
       "      <th>866</th>\n",
       "      <td>M</td>\n",
       "      <td>07</td>\n",
       "      <td>BB</td>\n",
       "      <td>21</td>\n",
       "      <td>[7.324330510414283, 7.782101167315176, 8.16357...</td>\n",
       "      <td>2</td>\n",
       "    </tr>\n",
       "    <tr>\n",
       "      <th>867</th>\n",
       "      <td>M</td>\n",
       "      <td>07</td>\n",
       "      <td>BB</td>\n",
       "      <td>22</td>\n",
       "      <td>[27.84771496147097, 27.695124742504007, 26.703...</td>\n",
       "      <td>2</td>\n",
       "    </tr>\n",
       "  </tbody>\n",
       "</table>\n",
       "<p>475 rows × 6 columns</p>\n",
       "</div>"
      ],
      "text/plain": [
       "    type_signal num_personne muscle num_enregistrement  \\\n",
       "0             C           01     BB                 51   \n",
       "1             C           01     BB                 52   \n",
       "2             C           01     BB                 53   \n",
       "3             C           01     BB                 54   \n",
       "4             C           01     BB                 55   \n",
       "..          ...          ...    ...                ...   \n",
       "863           M           07     BB                 18   \n",
       "864           M           07     BB                 19   \n",
       "865           M           07     BB                 20   \n",
       "866           M           07     BB                 21   \n",
       "867           M           07     BB                 22   \n",
       "\n",
       "                                                signal  num_class  \n",
       "0    [0.07629510948348212, 1.0681315327687495, -5.6...          0  \n",
       "1    [292.2102693217365, 288.2429236285954, 287.785...          0  \n",
       "2    [-31.204699778744185, -29.373617151140614, -28...          0  \n",
       "3    [-1.2207217517357138, 2.2888532845044636, -3.2...          0  \n",
       "4    [13.275349050125888, 10.376134889753567, 10.98...          0  \n",
       "..                                                 ...        ...  \n",
       "863  [1.9073777370870528, 2.059967956054017, 3.8910...          2  \n",
       "864  [-8.010986495765621, -4.425116350041963, -7.01...          2  \n",
       "865  [13.885709925993744, 10.986495765621424, 9.231...          2  \n",
       "866  [7.324330510414283, 7.782101167315176, 8.16357...          2  \n",
       "867  [27.84771496147097, 27.695124742504007, 26.703...          2  \n",
       "\n",
       "[475 rows x 6 columns]"
      ]
     },
     "execution_count": 202,
     "metadata": {},
     "output_type": "execute_result"
    }
   ],
   "source": [
    "df"
   ]
  },
  {
   "cell_type": "code",
   "execution_count": 203,
   "metadata": {},
   "outputs": [],
   "source": [
    "# Filter out rows where num_personne equals to '01'\n",
    "test_df = df[df['num_personne'] == '01']\n",
    "train_df = df[df['num_personne'] != '01']\n",
    "\n",
    "# Split the remaining data into training and test sets\n",
    "X_train = train_df[['type_signal', 'muscle', 'num_enregistrement', 'signal']]\n",
    "y_train = train_df['num_class']\n",
    "X_test = test_df[['type_signal', 'muscle', 'num_enregistrement', 'signal']]\n",
    "y_test = test_df['num_class']\n"
   ]
  },
  {
   "cell_type": "code",
   "execution_count": 204,
   "metadata": {},
   "outputs": [
    {
     "name": "stdout",
     "output_type": "stream",
     "text": [
      "    type_signal num_personne muscle num_enregistrement  \\\n",
      "30            C           02     BB                 51   \n",
      "31            C           02     BB                 52   \n",
      "32            C           02     BB                 53   \n",
      "33            C           02     BB                 54   \n",
      "34            C           02     BB                 55   \n",
      "..          ...          ...    ...                ...   \n",
      "863           M           07     BB                 18   \n",
      "864           M           07     BB                 19   \n",
      "865           M           07     BB                 20   \n",
      "866           M           07     BB                 21   \n",
      "867           M           07     BB                 22   \n",
      "\n",
      "                                                signal  num_class  \n",
      "30   [9.3842984664683, 13.73311970702678, 14.877546...          0  \n",
      "31   [10.681315327687496, 8.545052262149996, 9.3080...          0  \n",
      "32   [18.921187151903563, 19.684138246738385, 22.12...          0  \n",
      "33   [0.8392462043183032, 1.4496070801861602, 3.356...          0  \n",
      "34   [33.340962844281684, 36.16388189517052, 32.883...          0  \n",
      "..                                                 ...        ...  \n",
      "863  [1.9073777370870528, 2.059967956054017, 3.8910...          2  \n",
      "864  [-8.010986495765621, -4.425116350041963, -7.01...          2  \n",
      "865  [13.885709925993744, 10.986495765621424, 9.231...          2  \n",
      "866  [7.324330510414283, 7.782101167315176, 8.16357...          2  \n",
      "867  [27.84771496147097, 27.695124742504007, 26.703...          2  \n",
      "\n",
      "[433 rows x 6 columns]\n"
     ]
    }
   ],
   "source": [
    "print(train_df)"
   ]
  },
  {
   "cell_type": "code",
   "execution_count": 205,
   "metadata": {
    "id": "4Zc_4AzmrQ3s"
   },
   "outputs": [],
   "source": [
    "X_train = train_df['signal'].tolist()\n",
    "y_train = train_df['num_class'].tolist()\n",
    "\n",
    "X_test = test_df['signal'].tolist()\n",
    "y_test = test_df['num_class'].tolist()\n"
   ]
  },
  {
   "cell_type": "code",
   "execution_count": 206,
   "metadata": {
    "id": "NYc4-mxsrLpm"
   },
   "outputs": [],
   "source": [
    "# Separate train data into two dataframes by class\n",
    "train_df_class0 = train_df[train_df['num_class'] == 0]\n",
    "train_df_class1 = train_df[train_df['num_class'] == 1]\n",
    "train_df_class2 = train_df[train_df['num_class'] == 2]\n",
    "\n",
    "# Determine smaller size\n",
    "min_size = min(len(train_df_class0), len(train_df_class1), len(train_df_class2))\n",
    "\n",
    "# Randomly sample larger dataframe to match smaller one\n",
    "train_df_class0 = train_df_class0.sample(n=min_size, random_state=42)\n",
    "train_df_class1 = train_df_class1.sample(n=min_size, random_state=42)\n",
    "train_df_class2 = train_df_class2.sample(n=min_size, random_state=42)\n",
    "\n",
    "# Concatenate dataframes back together\n",
    "train_df_balanced = pd.concat([train_df_class0, train_df_class1, train_df_class2])\n",
    "\n",
    "# Split the balanced data into training and test sets\n",
    "X_train = train_df_balanced[['signal']]\n",
    "y_train = train_df_balanced['num_class']\n",
    "X_test = test_df[['signal']]\n",
    "y_test = test_df['num_class']\n"
   ]
  },
  {
   "cell_type": "code",
   "execution_count": 207,
   "metadata": {
    "id": "aH0VoR_UE3yR"
   },
   "outputs": [],
   "source": [
    "del df"
   ]
  },
  {
   "cell_type": "code",
   "execution_count": 208,
   "metadata": {
    "id": "wkR28O71WCqQ"
   },
   "outputs": [
    {
     "name": "stdout",
     "output_type": "stream",
     "text": [
      "(258, 1)\n",
      "(258, 1)\n"
     ]
    }
   ],
   "source": [
    "print(X_train.shape)\n",
    "#data augmentation using noise (on training data only)\n",
    "num_samples, num_features = X_train.shape\n",
    "noise = np.random.normal(loc=0, scale=0.1, size=(num_samples, num_features))\n",
    "X_train_noisy = X_train + noise\n",
    "print(X_train_noisy.shape)"
   ]
  },
  {
   "cell_type": "code",
   "execution_count": 209,
   "metadata": {},
   "outputs": [],
   "source": [
    "X_train_augmented = np.vstack((X_train, X_train_noisy))"
   ]
  },
  {
   "cell_type": "code",
   "execution_count": 210,
   "metadata": {
    "id": "n-GIqksRfZRm"
   },
   "outputs": [],
   "source": [
    "del  als,normal,myopathie, alsfiles,normalfiles, myopathiefiles"
   ]
  },
  {
   "cell_type": "code",
   "execution_count": 211,
   "metadata": {},
   "outputs": [
    {
     "name": "stdout",
     "output_type": "stream",
     "text": [
      "(516, 1)\n"
     ]
    }
   ],
   "source": [
    "print(X_train_augmented.shape)"
   ]
  },
  {
   "cell_type": "code",
   "execution_count": 212,
   "metadata": {},
   "outputs": [
    {
     "data": {
      "text/plain": [
       "numpy.ndarray"
      ]
     },
     "execution_count": 212,
     "metadata": {},
     "output_type": "execute_result"
    }
   ],
   "source": [
    "type(X_train_augmented)"
   ]
  },
  {
   "cell_type": "code",
   "execution_count": 213,
   "metadata": {},
   "outputs": [],
   "source": [
    "X_train_augmented = X_train_augmented.tolist()"
   ]
  },
  {
   "cell_type": "code",
   "execution_count": 214,
   "metadata": {},
   "outputs": [
    {
     "data": {
      "text/plain": [
       "list"
      ]
     },
     "execution_count": 214,
     "metadata": {},
     "output_type": "execute_result"
    }
   ],
   "source": [
    "type(X_train_augmented)"
   ]
  },
  {
   "cell_type": "code",
   "execution_count": 215,
   "metadata": {
    "id": "Blrv7OFwUm4c"
   },
   "outputs": [],
   "source": [
    "#scaling the train set \n",
    "X_train_scaled = scale_data_standard(X_train_augmented)"
   ]
  },
  {
   "cell_type": "code",
   "execution_count": 216,
   "metadata": {},
   "outputs": [],
   "source": [
    "#windowing the train set \n",
    "X_train_windowed = windowing_fun(X_train_scaled, window_size=1000, overlap=100)"
   ]
  },
  {
   "cell_type": "code",
   "execution_count": 217,
   "metadata": {},
   "outputs": [
    {
     "data": {
      "text/plain": [
       "pandas.core.frame.DataFrame"
      ]
     },
     "execution_count": 217,
     "metadata": {},
     "output_type": "execute_result"
    }
   ],
   "source": [
    "type(X_test)"
   ]
  },
  {
   "cell_type": "code",
   "execution_count": 218,
   "metadata": {},
   "outputs": [],
   "source": [
    "X_test = X_test.values.tolist()"
   ]
  },
  {
   "cell_type": "code",
   "execution_count": 219,
   "metadata": {},
   "outputs": [
    {
     "data": {
      "text/plain": [
       "list"
      ]
     },
     "execution_count": 219,
     "metadata": {},
     "output_type": "execute_result"
    }
   ],
   "source": [
    "type(X_test)"
   ]
  },
  {
   "cell_type": "code",
   "execution_count": 220,
   "metadata": {},
   "outputs": [],
   "source": [
    "#scaling the test set \n",
    "X_test_scaled = scale_data_standard(X_test)"
   ]
  },
  {
   "cell_type": "code",
   "execution_count": 221,
   "metadata": {},
   "outputs": [],
   "source": [
    "#windowing the test set\n",
    "X_test_windowed = windowing_fun(X_test_scaled, window_size=1000, overlap=100)"
   ]
  },
  {
   "cell_type": "code",
   "execution_count": 222,
   "metadata": {},
   "outputs": [
    {
     "data": {
      "text/plain": [
       "pandas.core.series.Series"
      ]
     },
     "execution_count": 222,
     "metadata": {},
     "output_type": "execute_result"
    }
   ],
   "source": [
    "type(y_train)"
   ]
  },
  {
   "cell_type": "code",
   "execution_count": 255,
   "metadata": {},
   "outputs": [],
   "source": [
    "X = X_train[['signal']].values.tolist()\n",
    "Y = y_train.values.tolist()"
   ]
  },
  {
   "cell_type": "code",
   "execution_count": 256,
   "metadata": {},
   "outputs": [
    {
     "data": {
      "text/plain": [
       "(258, 1, 262134)"
      ]
     },
     "execution_count": 256,
     "metadata": {},
     "output_type": "execute_result"
    }
   ],
   "source": [
    "np.shape(X)"
   ]
  },
  {
   "cell_type": "code",
   "execution_count": 257,
   "metadata": {},
   "outputs": [
    {
     "name": "stdout",
     "output_type": "stream",
     "text": [
      "[0, 0, 0, 0, 0, 0, 0, 0, 0, 0, 0, 0, 0, 0, 0, 0, 0, 0, 0, 0, 0, 0, 0, 0, 0, 0, 0, 0, 0, 0, 0, 0, 0, 0, 0, 0, 0, 0, 0, 0, 0, 0, 0, 0, 0, 0, 0, 0, 0, 0, 0, 0, 0, 0, 0, 0, 0, 0, 0, 0, 0, 0, 0, 0, 0, 0, 0, 0, 0, 0, 0, 0, 0, 0, 0, 0, 0, 0, 0, 0, 0, 0, 0, 0, 0, 0, 1, 1, 1, 1, 1, 1, 1, 1, 1, 1, 1, 1, 1, 1, 1, 1, 1, 1, 1, 1, 1, 1, 1, 1, 1, 1, 1, 1, 1, 1, 1, 1, 1, 1, 1, 1, 1, 1, 1, 1, 1, 1, 1, 1, 1, 1, 1, 1, 1, 1, 1, 1, 1, 1, 1, 1, 1, 1, 1, 1, 1, 1, 1, 1, 1, 1, 1, 1, 1, 1, 1, 1, 1, 1, 1, 1, 1, 1, 1, 1, 1, 1, 1, 1, 1, 1, 2, 2, 2, 2, 2, 2, 2, 2, 2, 2, 2, 2, 2, 2, 2, 2, 2, 2, 2, 2, 2, 2, 2, 2, 2, 2, 2, 2, 2, 2, 2, 2, 2, 2, 2, 2, 2, 2, 2, 2, 2, 2, 2, 2, 2, 2, 2, 2, 2, 2, 2, 2, 2, 2, 2, 2, 2, 2, 2, 2, 2, 2, 2, 2, 2, 2, 2, 2, 2, 2, 2, 2, 2, 2, 2, 2, 2, 2, 2, 2, 2, 2, 2, 2, 2, 2]\n"
     ]
    }
   ],
   "source": [
    "print(Y)"
   ]
  },
  {
   "cell_type": "code",
   "execution_count": 258,
   "metadata": {
    "id": "Bcr4HAHp421F"
   },
   "outputs": [
    {
     "name": "stdout",
     "output_type": "stream",
     "text": [
      "86\n"
     ]
    },
    {
     "data": {
      "text/plain": [
       "85"
      ]
     },
     "execution_count": 258,
     "metadata": {},
     "output_type": "execute_result"
    }
   ],
   "source": [
    "count_normal = Y.count(0)\n",
    "print(Y.count(0))\n",
    "last_index_normal = count_normal - 1\n",
    "last_index_normal"
   ]
  },
  {
   "cell_type": "code",
   "execution_count": 259,
   "metadata": {
    "id": "dmru4zsF421H"
   },
   "outputs": [
    {
     "name": "stdout",
     "output_type": "stream",
     "text": [
      "86\n"
     ]
    },
    {
     "data": {
      "text/plain": [
       "170"
      ]
     },
     "execution_count": 259,
     "metadata": {},
     "output_type": "execute_result"
    }
   ],
   "source": [
    "count_als = Y.count(1)\n",
    "print(Y.count(1))\n",
    "last_index_als = last_index_normal + count_als -1 \n",
    "last_index_als"
   ]
  },
  {
   "cell_type": "code",
   "execution_count": 260,
   "metadata": {
    "id": "9tVZ_pi5421I"
   },
   "outputs": [
    {
     "name": "stdout",
     "output_type": "stream",
     "text": [
      "86\n"
     ]
    },
    {
     "data": {
      "text/plain": [
       "256"
      ]
     },
     "execution_count": 260,
     "metadata": {},
     "output_type": "execute_result"
    }
   ],
   "source": [
    "count_myopathy = Y.count(2)\n",
    "print(Y.count(2))\n",
    "last_index_myopathy = last_index_als + count_myopathy \n",
    "last_index_myopathy"
   ]
  },
  {
   "cell_type": "code",
   "execution_count": 274,
   "metadata": {},
   "outputs": [
    {
     "name": "stdout",
     "output_type": "stream",
     "text": [
      "[[array([16.70862898, 11.59685664, 12.28351263, ...,  9.53688869,\n",
      "        9.53688869,  9.84206912])], [array([ 8.69764248,  9.91836423,  7.93469139, ..., 25.78774701,\n",
      "       26.77958343, 26.39810788])], [array([-7.62951095, -3.28068971, -1.98367285, ..., -9.61318379,\n",
      "       -9.91836423, -9.38429847])], [array([-41.96231022, -43.4119173 , -46.31113146, ...,  97.73403525,\n",
      "        97.3525597 ,  96.89478904])], [array([-7.32433051, -6.56137942, -2.74662394, ..., -6.33249409,\n",
      "       -5.26436255, -9.61318379])], [array([-14.80125124, -12.81757839, -10.75761044, ...,  18.5397116 ,\n",
      "        16.0982681 ,  16.32715343])], [array([-43.10673686, -43.18303197, -42.26749065, ..., -34.5616846 ,\n",
      "       -33.34096284, -33.26466773])], [array([17.24269474, 18.5397116 , 19.60784314, ..., 11.13908598,\n",
      "        4.88288701,  6.63767453])], [array([22.81223774, 21.43892576, 21.28633555, ..., 73.39589532,\n",
      "       73.62478065, 74.69291218])], [array([ -4.57770657, -10.91020066, -13.04646372, ..., -42.72526131,\n",
      "       -45.62447547, -44.40375372])], [array([  2.51773861,   6.4087892 ,   2.13626307, ..., -11.13908598,\n",
      "       -10.07095445,  -5.79842832])], [array([17.85305562, 19.15007248, 15.86938277, ...,  0.68665599,\n",
      "       -0.30518044, -0.15259022])], [array([ -5.41695277,  -8.39246204, -11.21538109, ...,  -1.83108263,\n",
      "         1.75478752,   0.        ])], [array([23.49889372, 26.70328832, 26.93217365, ...,  8.23987182,\n",
      "       10.83390555,  8.92652781])], [array([-21.82040131, -25.78774701, -23.65148394, ..., 231.40306706,\n",
      "       229.19050889, 233.53933013])], [array([-50.81254292, -50.73624781, -48.2948043 , ...,  -4.0436408 ,\n",
      "        -3.96734569,  -2.51773861])], [array([37.76607919, 33.64614328, 35.32463569, ..., 15.56420233,\n",
      "       14.87754635, 17.01380941])], [array([-28.1528954 , -25.86404211, -25.32997635, ...,  -5.11177234,\n",
      "        -5.11177234,  -7.55321584])], [array([ 8.0109865 , 14.4960708 , 10.52872511, ..., 10.91020066,\n",
      "       10.52872511, 11.82574197])], [array([-30.06027314, -29.90768292, -30.5943389 , ..., -14.72495613,\n",
      "       -15.56420233, -16.63233387])], [array([ 11.82574197,   6.25619898,   3.05180438, ..., -24.9485008 ,\n",
      "       -28.9921416 , -32.73060197])], [array([-31.43358511, -31.58617533, -32.12024109, ...,   9.99465934,\n",
      "         6.56137942,  13.42793927])], [array([67.06340124, 68.05523766, 68.66559854, ..., 18.4634165 ,\n",
      "       17.77676051, 18.38712139])], [array([ -1.22072175,   3.50957504,   2.05996796, ..., -10.37613489,\n",
      "        -0.07629511,  -6.48508431])], [array([ 51.95696956,  55.46654459,  55.16136416, ..., -12.43610285,\n",
      "        -6.94285496,  -8.54505226])], [array([25.25368124, 21.51522087, 22.04928664, ..., 22.43076219,\n",
      "       16.40344854, 20.82856489])], [array([  8.23987182,  10.45243   ,  11.21538109, ..., -19.76043336,\n",
      "       -22.04928664, -20.21820401])], [array([28.76325628, 27.92401007, 21.13374533, ..., -7.32433051,\n",
      "       -9.46059358, -6.25619898])], [array([38.07125963, 33.7987335 , 33.95132372, ..., 26.5506981 ,\n",
      "       29.98397803, 26.93217365])], [array([-58.21316854, -57.45021744, -56.3057908 , ...,   1.52590219,\n",
      "         1.90737774,   2.97550927])], [array([40.28381781, 41.58083467, 42.42008087, ..., 24.49073014,\n",
      "       25.40627146, 25.40627146])], [array([ 485.31319142,  485.00801099,  486.6865034 , ..., -231.09788663,\n",
      "       -230.33493553, -232.31860838])], [array([25.86404211, 25.10109102, 21.28633555, ...,  4.65400168,\n",
      "        5.87472343,  7.47692073])], [array([-21.51522087, -20.82856489, -18.38712139, ...,  36.240177  ,\n",
      "        34.94316014,  32.12024109])], [array([-85.45052262, -93.08003357, -93.15632868, ...,   1.14442664,\n",
      "         6.02731365,   1.44960708])], [array([-10.45243   ,  -5.87472343,  -8.62134737, ...,  34.40909438,\n",
      "        37.8423743 ,  34.02761883])], [array([  5.72213321,   5.6458381 ,   2.21255818, ..., -20.29449912,\n",
      "       -20.82856489, -22.88853285])], [array([ 21.05745022,  21.36263066,  21.36263066, ..., -51.80437934,\n",
      "       -49.66811627, -44.55634394])], [array([  2.89921416,  -2.97550927,   0.        , ..., -10.91020066,\n",
      "        -9.30800336,  -7.01915007])], [array([ 27.92401007,  33.72243839,  36.77424277, ..., -30.97581445,\n",
      "       -30.06027314, -34.25650416])], [array([ 42.34378576,  40.81788357,  42.03860533, ..., -23.27000839,\n",
      "       -25.48256657, -26.01663233])], [array([-5.56954299, -9.00282292, -3.89105058, ..., 17.54787518,\n",
      "       16.47974365, 23.11741817])], [array([-6.86655985, -8.08728161, -9.46059358, ..., 13.04646372,\n",
      "       15.10643168, 13.12275883])], [array([ -9.00282292,  -4.65400168,  -5.79842832, ..., 112.45899138,\n",
      "       113.14564736, 112.07751583])], [array([ 275.19645991,  274.28091859,  276.7223621 , ..., -248.11169604,\n",
      "       -244.98359655, -249.10353246])], [array([ -8.69764248, -14.11459525, -10.75761044, ...,  33.41725795,\n",
      "        33.64614328,  29.14473182])], [array([ 0.38147555, -1.75478752,  0.22888533, ..., -5.87472343,\n",
      "       -0.07629511,  4.27252613])], [array([-25.63515679, -25.48256657, -25.02479591, ...,  13.73311971,\n",
      "        11.59685664,  12.28351263])], [array([49.8970016 , 49.97329671, 51.88067445, ..., -9.23170825,\n",
      "       -7.40062562, -5.72213321])], [array([-12.81757839, -14.26718547, -15.71679255, ...,  -5.6458381 ,\n",
      "        -6.48508431,   1.83108263])], [array([ 9.23170825,  8.16357671, 10.37613489, ..., -1.6021973 ,\n",
      "       -3.66216526, -0.38147555])], [array([-21.51522087, -20.1419089 , -21.36263066, ...,  10.60502022,\n",
      "         9.00282292,  16.47974365])], [array([ -2.67032883, -10.83390555,  -9.38429847, ...,  12.0546273 ,\n",
      "        12.81757839,  10.98649577])], [array([27.3136492 , 29.60250248, 29.60250248, ..., 10.29983978,\n",
      "        7.2480354 , 11.21538109])], [array([-6.02731365, -5.87472343, -7.70580606, ..., 10.52872511,\n",
      "       12.66498817,  6.94285496])], [array([ 5.95101854, 11.21538109, 10.98649577, ..., 46.00595102,\n",
      "       47.30296788, 43.10673686])], [array([213.70260166, 201.49538415, 184.71046006, ...,  21.36263066,\n",
      "        20.82856489,  19.22636759])], [array([-2.97550927, -1.90737774, -7.2480354 , ..., -0.91554131,\n",
      "       -0.53406577, -3.35698482])], [array([ -7.93469139, -15.64049744, -16.32715343, ..., -80.64393072,\n",
      "       -78.66025788, -80.33875029])], [array([ 6.33249409,  3.96734569,  9.46059358, ...,  9.07911803,\n",
      "        9.84206912, 10.83390555])], [array([ 48.52368963,  50.58365759,  50.12588693, ..., 167.08628977,\n",
      "       167.84924086, 170.90104524])], [array([-8.92652781, -3.73846036, -1.98367285, ...,  0.76295109,\n",
      "        3.58587015,  4.27252613])], [array([-13.6568246 , -12.51239796, -14.03830014, ...,  43.71709773,\n",
      "        42.57267109,  41.80972   ])], [array([226.0624094 , 226.97795071, 214.46555276, ...,  15.33531701,\n",
      "        13.50423438,  10.68131533])], [array([-4.11993591, -7.85839628, -1.6021973 , ..., 66.37674525,\n",
      "       71.41222248, 72.17517357])], [array([ -0.68665599,   1.22072175,   4.42511635, ..., -18.38712139,\n",
      "       -17.77676051, -19.60784314])], [array([-68.58930343, -64.16418708, -68.51300832, ..., 110.85679408,\n",
      "       112.30640116, 115.28191043])], [array([ 8.16357671, 10.98649577, 12.58869306, ..., -3.12809949,\n",
      "       -4.95918212, -6.17990387])], [array([-15.64049744, -14.64866102, -13.35164416, ...,  37.61348898,\n",
      "        37.07942321,  26.93217365])], [array([-14.11459525, -13.73311971, -12.28351263, ...,   3.66216526,\n",
      "         3.66216526,  -0.07629511])], [array([ 15.64049744,   6.86655985,  -1.90737774, ..., -24.26184482,\n",
      "       -20.1419089 , -25.32997635])], [array([ 36.08758679,  32.42542153,  36.39276722, ..., 164.18707561,\n",
      "       163.80560006, 156.40497444])], [array([-2.28885328, -4.88288701, -5.18806744, ...,  3.50957504,\n",
      "        2.51773861, -0.22888533])], [array([ 12.0546273 ,  11.36797131,  11.82574197, ..., -20.44708934,\n",
      "       -22.20187686, -21.36263066])], [array([ -1.67849241,   0.30518044,  -0.45777066, ..., -15.56420233,\n",
      "       -16.25085832, -16.63233387])], [array([32.50171664, 30.06027314, 36.1638819 , ..., 27.3899443 ,\n",
      "       25.48256657, 27.61882963])], [array([-55.00877394, -52.94880598, -51.42290379, ...,  -0.76295109,\n",
      "        -3.28068971,  -3.35698482])], [array([12.58869306, 11.67315175, 10.22354467, ...,  9.23170825,\n",
      "        8.31616693,  7.62951095])], [array([ 18.31082628,  16.47974365,  19.3026627 , ..., 105.89761196,\n",
      "       102.92210269,  98.1155108 ])], [array([ 46.38742657,  45.0141146 ,  45.24299992, ..., -93.15632868,\n",
      "       -94.52964065, -96.66590372])], [array([  3.96734569,  -2.59403372,  -0.45777066, ..., -77.89730678,\n",
      "       -74.23514153, -72.48035401])], [array([-22.5070573 , -23.49889372, -21.05745022, ...,  -3.66216526,\n",
      "        -4.65400168,  -3.81475547])], [array([ 49.97329671,  48.90516518,  47.83703365, ..., -14.34348058,\n",
      "       -14.4960708 , -14.4960708 ])], [array([79.88097963, 78.20248722, 83.6957351 , ...,  5.72213321,\n",
      "       12.35980774, 10.45243   ])], [array([22.5070573 , 23.49889372, 22.20187686, ..., 23.95666438,\n",
      "       19.15007248, 24.33813993])], [array([112.76417182,  96.81849393,  83.84832532, ..., 126.2684062 ,\n",
      "       126.49729152, 122.83512627])], [array([89.72304875, 91.09636072, 93.08003357, ..., 21.97299153,\n",
      "        0.        ,  0.        ])], [array([ 33.26466773,  33.11207752,  32.42542153, ..., -85.37422751,\n",
      "       -91.32524605, -89.95193408])], [array([59.12870985, 54.39841306, 48.06591897, ..., -1.22072175,\n",
      "        1.14442664,  1.06813153])], [array([25.10109102, 23.42259861, 27.84771496, ...,  8.16357671,\n",
      "       10.29983978,  6.17990387])], [array([-21.51522087, -21.21004044, -24.33813993, ...,  16.40344854,\n",
      "        16.02197299,  19.37895781])], [array([112.07751583, 113.90859846, 108.72053101, ...,  -3.89105058,\n",
      "        -0.76295109,  -4.8065919 ])], [array([52.49103532, 53.71175708, 48.98146029, ..., 48.67627985,\n",
      "       51.72808423, 59.28130007])], [array([81.33058671, 82.78019379, 80.87281605, ..., 54.85618372,\n",
      "       51.95696956, 52.56733043])], [array([153.20057984, 157.47310597, 154.80277714, ...,  68.58930343,\n",
      "        73.09071489,  73.77737087])], [array([-48.75257496, -49.97329671, -49.51552605, ...,  40.05493248,\n",
      "        41.35194934,  43.86968795])], [array([-4.03295949e+02, -4.02380407e+02, -4.02151522e+02, ...,\n",
      "        2.28885328e+00,  2.28885328e-01,  2.21255818e+00])], [array([-649.2713817 , -666.59037156, -674.83024338, ...,  -57.22133211,\n",
      "        -55.69542992,  -54.85618372])], [array([70.8018616 , 70.87815671, 72.63294423, ...,  5.49324788,\n",
      "        7.09544518,  9.53688869])], [array([-3.58587015, -6.4087892 , -8.54505226, ..., 21.97299153,\n",
      "        0.        ,  0.        ])], [array([60.19684138, 60.04425116, 54.85618372, ..., 59.05241474,\n",
      "       57.98428321, 56.45838102])], [array([-83.39055467, -87.35790036, -84.84016175, ...,  26.93217365,\n",
      "        26.62699321,  24.9485008 ])], [array([-45.31929503, -49.21034562, -47.68444343, ...,  -0.91554131,\n",
      "        -6.71396963, -14.11459525])], [array([36.69794766, 35.62981613, 37.61348898, ..., 21.97299153,\n",
      "        0.        ,  0.        ])], [array([ 201.64797436,  202.10574502,  201.49538415, ..., -101.70138094,\n",
      "        -98.49698634,  -96.43701839])], [array([-37.8423743 , -37.8423743 , -34.79056992, ...,  21.97299153,\n",
      "         0.        ,   0.        ])], [array([10.91020066, 12.43610285, 12.58869306, ..., -5.95101854,\n",
      "       -5.72213321, -7.09544518])], [array([106.12649729, 102.76951247, 103.15098802, ...,  -6.25619898,\n",
      "        -5.18806744,  -7.62951095])], [array([43.56450752, 42.95414664, 43.4119173 , ..., 42.72526131,\n",
      "       43.10673686, 42.87785153])], [array([ 5.18806744,  2.89921416,  3.58587015, ..., 25.10109102,\n",
      "       24.33813993, 25.10109102])], [array([-84.22980087, -87.12901503, -86.59494926, ..., -21.59151598,\n",
      "       -22.81223774, -25.55886168])], [array([-132.98237583, -136.64454108, -130.84611276, ...,  -36.92683299,\n",
      "        -35.70611124,  -35.17204547])], [array([-138.32303349, -132.98237583, -129.70168612, ..., -209.12489509,\n",
      "       -195.16289006, -191.80590524])], [array([-2.89921416, -5.41695277, -4.95918212, ..., -9.38429847,\n",
      "       -9.6894789 , -9.61318379])], [array([-18.5397116 , -16.47974365, -15.79308766, ...,   6.10360876,\n",
      "         5.49324788,   3.43327993])], [array([56.53467613, 54.85618372, 57.9079881 , ..., 29.14473182,\n",
      "       20.98115511, 13.73311971])], [array([ 3.05180438,  2.4414435 ,  2.97550927, ..., 26.39810788,\n",
      "       25.55886168, 30.36545357])], [array([ 3.28068971,  2.89921416,  3.35698482, ..., 21.36263066,\n",
      "       23.49889372, 21.05745022])], [array([-288.47180896, -297.55092699, -309.52925917, ...,   11.2916762 ,\n",
      "         10.45243   ,   13.19905394])], [array([51.19401846, 48.90516518, 51.95696956, ...,  3.73846036,\n",
      "        0.8392462 , -0.45777066])], [array([  15.41161212,   14.80125124,   14.57236591, ..., -101.09102007,\n",
      "       -100.63324941,  -93.91927977])], [array([-388.72358282, -390.24948501, -385.82436866, ...,  406.88181888,\n",
      "        404.97444114,  404.36408026])], [array([-68.13153277, -68.43671321, -68.3604181 , ..., -43.94598306,\n",
      "       -46.08224613, -45.0904097 ])], [array([54.01693751, 58.36575875, 62.02792401, ..., 21.97299153,\n",
      "        0.        ,  0.        ])], [array([ 1.06813153,  3.35698482,  2.4414435 , ..., 60.19684138,\n",
      "       58.7472343 , 60.12054627])], [array([-40.58899825, -37.53719387, -43.56450752, ...,  21.97299153,\n",
      "         0.        ,   0.        ])], [array([  -6.17990387,   -8.39246204,   -6.71396963, ..., -104.29541466,\n",
      "       -103.53246357, -103.83764401])], [array([ -5.49324788,  -5.87472343, -10.22354467, ...,  -5.34065766,\n",
      "        -7.17174029,  -9.30800336])], [array([-19.98931868, -21.59151598, -22.43076219, ...,  12.20721752,\n",
      "        12.51239796,  10.98649577])], [array([54.77988861, 57.22133211, 55.61913481, ..., 14.80125124,\n",
      "       14.4960708 , 17.24269474])], [array([ 62.02792401,  64.54566262,  62.71458   , ..., -13.27534905,\n",
      "       -15.2590219 , -12.0546273 ])], [array([16.93751431, 18.31082628, 18.08194095, ..., 50.73624781,\n",
      "       52.87251087, 54.39841306])], [array([-15.2590219 , -17.24269474, -18.5397116 , ...,   5.41695277,\n",
      "         0.30518044,   3.81475547])], [array([-165.94186313, -165.48409247, -168.45960174, ...,   42.57267109,\n",
      "         40.28381781,   38.22384985])], [array([-114.36636912, -107.34721904, -101.70138094, ...,   32.57801175,\n",
      "         29.90768292,   30.36545357])], [array([-11.59685664, -14.80125124, -16.02197299, ...,  23.49889372,\n",
      "        21.43892576,  24.18554971])], [array([18.31082628, 17.09010452, 22.12558175, ..., 20.98115511,\n",
      "       23.80407416, 23.27000839])], [array([-0.76295109,  4.34882124,  1.44960708, ...,  4.65400168,\n",
      "        3.43327993,  3.96734569])], [array([41.96231022, 40.51270314, 40.74158846, ..., 21.97299153,\n",
      "        0.        ,  0.        ])], [array([30.51804379, 21.66781109, 19.07377737, ..., 21.97299153,\n",
      "        0.        ,  0.        ])], [array([-30.82322423, -30.67063401, -28.07660029, ...,  25.32997635,\n",
      "        20.75226978,  23.80407416])], [array([-66.7582208 , -70.03891051, -75.07438773, ...,   0.        ,\n",
      "         0.        ,   0.        ])], [array([25.55886168, 28.38178073, 22.96482795, ..., 71.86999313,\n",
      "       75.15068284, 71.41222248])], [array([-79.95727474, -83.54314488, -82.24612802, ...,  21.97299153,\n",
      "         0.        ,   0.        ])], [array([ 20.21820401,  23.04112306,  18.00564584, ..., -73.92996109,\n",
      "       -76.21881437, -76.37140459])], [array([-69.50484474, -67.90264744, -69.65743496, ..., -85.14534218,\n",
      "       -80.4150454 , -77.43953613])], [array([-1.84405280e+02, -1.50988022e+02, -1.13298238e+02, ...,\n",
      "       -4.27252613e+00,  7.62951095e-02, -7.62951095e-01])], [array([ 81.48317693,  80.87281605,  84.99275196, ..., -36.1638819 ,\n",
      "       -37.46089876, -40.51270314])], [array([-22.65964752, -21.66781109, -21.43892576, ..., -11.90203708,\n",
      "       -11.90203708, -11.97833219])], [array([64.77454795, 65.30861372, 65.69008927, ..., 55.5428397 ,\n",
      "       56.91615167, 60.3494316 ])], [array([43.71709773, 36.62165255, 40.43640803, ..., 20.90486   ,\n",
      "       19.07377737, 19.37895781])], [array([ 9.99465934, 11.2916762 ,  9.23170825, ..., 21.97299153,\n",
      "        0.        ,  0.        ])], [array([  7.93469139,   9.07911803,  10.75761044, ..., -14.03830014,\n",
      "       -13.42793927, -11.36797131])], [array([-0.07629511,  0.91554131, -0.07629511, ...,  8.92652781,\n",
      "        8.16357671,  7.09544518])], [array([30.44174868, 31.89135576, 33.18837263, ..., 21.97299153,\n",
      "        0.        ,  0.        ])], [array([11.36797131, 13.80941482,  9.38429847, ...,  3.89105058,\n",
      "        6.48508431, 11.82574197])], [array([ 84.53498131,  85.52681773,  86.82383459, ..., 150.68284123,\n",
      "       143.73998627, 142.67185473])], [array([42.57267109, 42.57267109, 42.80155642, ..., 21.97299153,\n",
      "        0.        ,  0.        ])], [array([11.2916762 , 12.97016861, 12.28351263, ...,  6.71396963,\n",
      "        7.55321584,  7.47692073])], [array([-171.81658656, -170.82475013, -166.85740444, ...,   35.09575036,\n",
      "         38.6053254 ,   39.4445716 ])], [array([-6.71396963, -7.70580606, -7.78210117, ..., 66.45304036,\n",
      "       63.5538262 , 57.60280766])], [array([-4.42511635, -2.97550927, -4.34882124, ...,  5.11177234,\n",
      "        7.55321584,  4.34882124])], [array([ -44.40375372,  -43.71709773,  -47.68444343, ..., -822.2323949 ,\n",
      "       -826.58121614, -821.01167315])], [array([   5.03547723,    2.28885328,    3.43327993, ..., -144.35034714,\n",
      "       -144.8081178 , -144.27405203])], [array([-27.08476387, -26.62699321, -27.00846876, ..., -42.42008087,\n",
      "       -38.91050584, -34.48538949])], [array([-33.95132372, -50.43106737, -71.25963226, ...,  21.97299153,\n",
      "         0.        ,   0.        ])], [array([105.97390707, 104.06652934, 106.9657435 , ...,  21.97299153,\n",
      "         0.        ,   0.        ])], [array([ -9.30800336,  -9.00282292, -13.42793927, ..., -44.17486839,\n",
      "       -44.86152438, -42.6489662 ])], [array([-51.04142824, -49.13405051, -48.75257496, ...,  11.44426642,\n",
      "        11.2916762 ,   7.55321584])], [array([-10.22354467, -10.68131533,  -7.78210117, ...,  21.97299153,\n",
      "         0.        ,   0.        ])], [array([-63.47753109, -64.77454795, -65.91897459, ...,  86.74753948,\n",
      "        86.82383459,  85.2979324 ])], [array([-16.17456321, -15.03013657, -18.92118715, ...,  40.51270314,\n",
      "        44.55634394,  44.70893416])], [array([11.13908598, 11.36797131, 12.58869306, ..., 10.75761044,\n",
      "        7.93469139, 11.21538109])], [array([13.96200504, 10.52872511,  6.10360876, ..., -7.01915007,\n",
      "       -6.79026474, -7.17174029])], [array([-147.63103685, -164.64484627, -186.31265736, ...,   41.73342489,\n",
      "         44.17486839,   42.72526131])], [array([  33.34096284,   32.57801175,   32.1965362 , ..., -148.92805371,\n",
      "       -148.69916838, -148.62287327])], [array([ 32.50171664,  35.47722591,  35.01945525, ..., -10.91020066,\n",
      "       -10.52872511,  -9.53688869])], [array([ -9.91836423, -14.26718547, -10.60502022, ...,   5.79842832,\n",
      "         0.30518044,   3.50957504])], [array([-13.73311971, -11.82574197, -15.03013657, ...,  32.88319219,\n",
      "        21.43892576,  12.0546273 ])], [array([-21.13374533, -20.37079423, -18.5397116 , ...,  11.44426642,\n",
      "         7.32433051,   7.70580606])], [array([38.98680095, 41.35194934, 43.48821241, ...,  7.01915007,\n",
      "        9.23170825,  7.93469139])], [array([ 0.8392462 ,  2.4414435 , -4.0436408 , ..., -0.45777066,\n",
      "        0.68665599, -1.29701686])], [array([  3.05180438,   5.79842832,   2.13626307, ..., -17.62417029,\n",
      "       -21.66781109, -21.82040131])], [array([-3.50957504, -3.73846036, -4.27252613, ..., 28.68696117,\n",
      "       28.45807584, 24.87220569])], [array([-10.75761044, -12.13092241, -10.29983978, ..., 122.52994583,\n",
      "        62.56198978,  18.84489204])], [array([-11.06279088, -13.19905394, -12.81757839, ...,  -5.95101854,\n",
      "        -3.73846036,  -3.89105058])], [array([1.07652399e+02, 1.02006561e+02, 1.03456168e+02, ...,\n",
      "       6.40878920e+00, 7.62951095e-02, 2.36514839e+00])], [array([  7.32433051,   7.78210117,   8.16357671, ..., -72.86182956,\n",
      "       -76.29510948, -74.76920729])], [array([ 7.09544518,  7.62951095,  6.33249409, ..., -3.05180438,\n",
      "       -1.6021973 , -2.36514839])], [array([ 3.43327993,  4.50141146, -0.07629511, ...,  4.88288701,\n",
      "        5.56954299,  6.02731365])], [array([22.65964752, 22.35446708, 20.37079423, ...,  0.45777066,\n",
      "        1.90737774, -2.74662394])], [array([2.97550927, 3.2043946 , 3.50957504, ..., 0.99183642, 1.67849241,\n",
      "       0.        ])], [array([-17.09010452, -20.67597467, -18.84489204, ...,  -2.59403372,\n",
      "        -5.6458381 , -10.83390555])], [array([-22.81223774, -21.21004044, -21.05745022, ...,   3.96734569,\n",
      "         5.26436255,   5.26436255])], [array([15.2590219 , 13.96200504, 14.72495613, ...,  0.61036088,\n",
      "        9.6894789 , -2.21255818])], [array([-6.17990387, -5.56954299, -6.10360876, ...,  0.30518044,\n",
      "        0.15259022,  0.53406577])], [array([ -7.40062562,  -6.02731365,  -5.41695277, ..., -62.71458   ,\n",
      "       -65.53749905, -64.01159686])], [array([13.35164416, 12.20721752, 15.2590219 , ..., -5.6458381 ,\n",
      "       -3.28068971, -2.28885328])], [array([16.70862898, 16.55603876, 16.70862898, ..., 13.19905394,\n",
      "       14.4960708 , 10.60502022])], [array([12.8938735 , 13.88570993, 16.8612192 , ...,  6.94285496,\n",
      "        4.34882124,  5.11177234])], [array([-45.0904097 , -46.08224613, -46.61631189, ...,  23.80407416,\n",
      "        23.80407416,  24.1092546 ])], [array([130.08316167, 130.76981765, 130.61722744, ...,   0.15259022,\n",
      "         1.52590219,   1.37331197])], [array([  6.10360876,   3.2043946 ,   6.17990387, ..., -15.56420233,\n",
      "       -12.97016861, -15.18272679])], [array([ -3.58587015,  -6.4087892 ,  -8.08728161, ..., -78.12619211,\n",
      "       -74.76920729, -71.71740291])], [array([-21.51522087, -23.80407416, -23.57518883, ...,  -5.56954299,\n",
      "        -6.79026474,  -1.67849241])], [array([-21.7441062 , -23.42259861, -24.64332036, ...,  59.58648051,\n",
      "        53.8643473 ,  49.36293584])], [array([-3.81475547, -1.83108263,  0.30518044, ...,  1.90737774,\n",
      "        4.95918212,  3.35698482])], [array([17.31898985, 18.92118715, 19.91302358, ..., 17.09010452,\n",
      "       17.31898985, 21.97299153])], [array([ 9.07911803,  8.62134737,  8.31616693, ..., 89.87563897,\n",
      "       88.88380255, 86.0608835 ])], [array([-8.23987182, -2.82291905,  2.36514839, ...,  7.40062562,\n",
      "        6.48508431,  5.11177234])], [array([67.36858167, 71.5648127 , 70.42038605, ...,  4.95918212,\n",
      "        6.02731365,  3.66216526])], [array([ 7.32433051, 11.74944686, 10.45243   , ..., 10.07095445,\n",
      "       11.74944686, 10.37613489])], [array([-18.61600671, -18.38712139, -15.64049744, ...,  -7.85839628,\n",
      "        -7.17174029,  -6.33249409])], [array([ 3.28068971,  4.95918212,  7.17174029, ...,  8.92652781,\n",
      "       11.82574197, 11.21538109])], [array([24.87220569, 27.23735409, 25.17738613, ..., 22.04928664,\n",
      "       18.69230182, 17.85305562])], [array([73.31960021, 78.58396277, 80.03356985, ..., 11.59685664,\n",
      "       10.52872511, 11.13908598])], [array([-15.94567788, -15.64049744, -18.15823606, ...,  -2.89921416,\n",
      "        -2.67032883,  -0.15259022])], [array([-1.44960708, -0.38147555, -3.35698482, ..., 11.44426642,\n",
      "        9.53688869, 10.14724956])], [array([17.16639963, 16.40344854, 12.97016861, ..., -2.13626307,\n",
      "       -7.2480354 , -3.35698482])], [array([-12.0546273 , -16.47974365, -14.57236591, ..., -37.07942321,\n",
      "       -37.61348898, -38.98680095])], [array([ 3.28068971,  3.43327993,  2.51773861, ..., -2.36514839,\n",
      "        2.59403372, -1.98367285])], [array([27.84771496, 27.69512474, 26.70328832, ..., 10.14724956,\n",
      "        7.78210117,  9.23170825])], [array([-17.39528496, -16.8612192 , -12.58869306, ...,  16.8612192 ,\n",
      "        16.0982681 ,  14.34348058])], [array([ -7.78210117, -10.75761044,  -9.99465934, ..., -13.19905394,\n",
      "       -14.26718547, -14.64866102])], [array([-5.11177234, -0.07629511, -6.33249409, ..., 21.36263066,\n",
      "       24.26184482, 20.44708934])], [array([-27.84771496, -26.39810788, -26.93217365, ...,  -0.53406577,\n",
      "         0.15259022,   1.83108263])], [array([ -92.31708248, -119.17296101, -100.32806897, ...,    1.67849241,\n",
      "          0.76295109,    0.8392462 ])], [array([-42.6489662 , -43.56450752, -44.40375372, ...,   5.49324788,\n",
      "         8.31616693,   7.93469139])], [array([ -5.34065766,  -7.40062562,  -8.23987182, ..., -25.86404211,\n",
      "       -26.70328832, -24.1092546 ])], [array([  9.91836423,  13.12275883,  10.29983978, ..., 201.1139086 ,\n",
      "       203.5553521 , 202.10574502])], [array([28.07660029, 24.26184482, 25.7114519 , ...,  2.51773861,\n",
      "       -2.89921416, -4.8065919 ])], [array([ 28.07660029,  31.20469978,  36.69794766, ..., -11.52056153,\n",
      "       -14.26718547, -10.75761044])], [array([-14.19089036, -15.10643168, -19.22636759, ...,  83.61943999,\n",
      "        82.39871824,  84.84016175])], [array([-4.19623102, -3.58587015, -4.0436408 , ..., 35.93499657,\n",
      "       38.98680095, 49.8970016 ])], [array([-4.95918212, -6.63767453, -5.49324788, ..., 52.79621576,\n",
      "       51.72808423, 48.21850919])], [array([ 7.2480354 ,  8.39246204,  9.76577401, ...,  0.91554131,\n",
      "       -0.53406577, -2.36514839])], [array([-21.59151598, -16.78492409, -18.23453117, ...,  26.32181277,\n",
      "        25.32997635,  23.42259861])], [array([38.30014496, 41.35194934, 39.59716182, ...,  1.6021973 ,\n",
      "        1.37331197,  2.89921416])], [array([ 6.86655985,  9.38429847, 12.66498817, ...,  2.13626307,\n",
      "        1.98367285,  1.44960708])], [array([19.07377737, 18.00564584, 20.90486   , ..., -3.35698482,\n",
      "       -5.18806744, -6.33249409])], [array([  7.85839628,   0.15259022,  -8.31616693, ..., -19.53154803,\n",
      "       -22.27817197, -23.3463035 ])], [array([ 1.22072175,  2.74662394,  2.05996796, ..., 12.8938735 ,\n",
      "       10.98649577, 11.74944686])], [array([28.9921416 , 32.9594873 , 37.46089876, ..., -1.98367285,\n",
      "       -3.81475547, -5.26436255])], [array([ 32.12024109,  28.45807584,  32.1965362 , ..., -17.39528496,\n",
      "       -17.47158007, -18.23453117])], [array([45.92965591, 45.54818036, 48.52368963, ..., -0.8392462 ,\n",
      "        1.83108263,  5.03547723])], [array([8.77393759, 9.91836423, 6.63767453, ..., 5.79842832, 3.58587015,\n",
      "       3.81475547])], [array([-8.0109865 , -4.42511635, -7.01915007, ...,  1.83108263,\n",
      "        1.83108263,  0.76295109])], [array([-12.8938735 ,  -9.99465934, -12.43610285, ...,   6.86655985,\n",
      "        10.52872511,   7.62951095])], [array([  4.19623102,   6.02731365,   6.86655985, ..., -22.27817197,\n",
      "       -24.26184482, -24.1092546 ])], [array([17.7004654 , 17.7004654 , 16.25085832, ...,  7.32433051,\n",
      "        6.56137942,  8.31616693])], [array([  1.29701686,   0.22888533,   0.22888533, ..., -36.92683299,\n",
      "       -35.32463569, -34.48538949])], [array([ 13.88570993,  10.98649577,   9.23170825, ..., -78.27878233,\n",
      "       -74.31143664, -69.1996643 ])], [array([-0.30518044,  0.30518044,  0.68665599, ..., -4.73029679,\n",
      "       -3.96734569, -3.96734569])], [array([12.13092241, 10.83390555, 11.36797131, ..., -0.38147555,\n",
      "        3.96734569,  5.34065766])], [array([-19.53154803, -22.5070573 , -20.52338445, ..., -22.5070573 ,\n",
      "       -19.60784314, -18.92118715])], [array([11.36797131,  9.07911803,  9.15541314, ..., -0.53406577,\n",
      "       -2.05996796, -0.91554131])], [array([10.29983978, 14.87754635, 12.51239796, ...,  6.79026474,\n",
      "        9.15541314,  8.08728161])], [array([ 0.        , -0.76295109,  3.50957504, ...,  8.54505226,\n",
      "        8.16357671,  7.17174029])]]\n"
     ]
    }
   ],
   "source": [
    "print(X)"
   ]
  },
  {
   "cell_type": "code",
   "execution_count": 286,
   "metadata": {},
   "outputs": [],
   "source": [
    "lst = X #just storying the value of X so that i don't have to run the upper cells"
   ]
  },
  {
   "cell_type": "code",
   "execution_count": 264,
   "metadata": {},
   "outputs": [
    {
     "name": "stdout",
     "output_type": "stream",
     "text": [
      "True\n"
     ]
    }
   ],
   "source": [
    "#check if arrays inside X have same length\n",
    "same_length = all(len(x) == len(lst[0]) for x in lst)\n",
    "print(same_length)"
   ]
  },
  {
   "cell_type": "code",
   "execution_count": 265,
   "metadata": {},
   "outputs": [
    {
     "data": {
      "text/plain": [
       "numpy.ndarray"
      ]
     },
     "execution_count": 265,
     "metadata": {},
     "output_type": "execute_result"
    }
   ],
   "source": [
    "X = np.array(X)\n",
    "type(X)"
   ]
  },
  {
   "cell_type": "code",
   "execution_count": 270,
   "metadata": {
    "id": "swCxixoS421I"
   },
   "outputs": [
    {
     "data": {
      "text/plain": [
       "(0, 0, 0)"
      ]
     },
     "execution_count": 270,
     "metadata": {},
     "output_type": "execute_result"
    }
   ],
   "source": [
    "#HERE IS THE PROBLEM WE ARE FACING FOR NOW\n",
    "#our windowed signals are becoming empty\n",
    "windowed_normal = len(windowing_fun_(X[:last_index_normal+1],400))\n",
    "windowed_als = len(windowing_fun_(X[last_index_normal+1:last_index_als+1],400))\n",
    "windowed_myopathie = len(windowing_fun_(X[last_index_als+1:],400))\n",
    "windowed_normal, windowed_als, windowed_myopathie"
   ]
  },
  {
   "cell_type": "code",
   "execution_count": 287,
   "metadata": {},
   "outputs": [],
   "source": [
    "X = lst #retreiving X"
   ]
  },
  {
   "cell_type": "code",
   "execution_count": 181,
   "metadata": {},
   "outputs": [
    {
     "name": "stdout",
     "output_type": "stream",
     "text": [
      "(0,)\n"
     ]
    }
   ],
   "source": [
    "Y = [0]*(windowed_normal)+[1]*(windowed_als)+[2]*(windowed_myopathie)\n",
    "print(np.asarray(Y).shape)\n"
   ]
  },
  {
   "cell_type": "code",
   "execution_count": 90,
   "metadata": {
    "id": "GTZzqak7rFWV"
   },
   "outputs": [
    {
     "name": "stdout",
     "output_type": "stream",
     "text": [
      "(31720,)\n"
     ]
    }
   ],
   "source": [
    "Y  = Y*4\n",
    "print(np.asarray(Y).shape)\n"
   ]
  },
  {
   "cell_type": "code",
   "execution_count": 91,
   "metadata": {
    "id": "r_VgwyYfYWnt"
   },
   "outputs": [
    {
     "name": "stdout",
     "output_type": "stream",
     "text": [
      "(31720, 10000)\n"
     ]
    }
   ],
   "source": [
    "X = windowing_fun(data,10000)\n",
    "print(np.asarray(X).shape)\n"
   ]
  },
  {
   "cell_type": "code",
   "execution_count": 92,
   "metadata": {
    "id": "BpKYgn3EkgsU"
   },
   "outputs": [],
   "source": [
    "del data"
   ]
  },
  {
   "cell_type": "code",
   "execution_count": 93,
   "metadata": {
    "id": "3B8PeUZaeeQC"
   },
   "outputs": [],
   "source": [
    "X = scale_data_standard(X)\n"
   ]
  },
  {
   "cell_type": "code",
   "execution_count": 94,
   "metadata": {},
   "outputs": [
    {
     "name": "stdout",
     "output_type": "stream",
     "text": [
      "(31720, 10000)\n"
     ]
    }
   ],
   "source": [
    "print(X.shape)"
   ]
  },
  {
   "cell_type": "code",
   "execution_count": 95,
   "metadata": {},
   "outputs": [
    {
     "data": {
      "image/png": "[encoded data removed]",
      "text/plain": [
       "<Figure size 432x288 with 1 Axes>"
      ]
     },
     "metadata": {
      "needs_background": "light"
     },
     "output_type": "display_data"
    }
   ],
   "source": [
    "fig, axs = plt.subplots(1)\n",
    "axs.plot(X[5000])\n",
    "axs.set_title('windowed Signal')\n",
    "plt.show()"
   ]
  },
  {
   "cell_type": "code",
   "execution_count": 96,
   "metadata": {
    "id": "Q1h0Nh9nlim8"
   },
   "outputs": [],
   "source": [
    "tensors_list = gen_tensors_list(X,(1,10000))"
   ]
  },
  {
   "cell_type": "code",
   "execution_count": 97,
   "metadata": {},
   "outputs": [
    {
     "name": "stdout",
     "output_type": "stream",
     "text": [
      "(31720, 1, 10000)\n",
      "(31720,)\n"
     ]
    }
   ],
   "source": [
    "print(np.asarray(tensors_list).shape)\n",
    "print(np.asarray(Y).shape)"
   ]
  },
  {
   "cell_type": "code",
   "execution_count": 126,
   "metadata": {
    "id": "LAQNPWwyHK7g"
   },
   "outputs": [
    {
     "data": {
      "text/plain": [
       "((25376, 1, 10000), (25376,))"
      ]
     },
     "execution_count": 126,
     "metadata": {},
     "output_type": "execute_result"
    }
   ],
   "source": [
    "#X_train, X_test, y_train, y_test = train_test_split( tensors_list, Y, test_size=0.04,random_state=20)\n",
    "X_train, X_val, y_train, y_val = train_test_split(tensors_list, Y, test_size=0.2, random_state=42)\n",
    "np.shape(X_train), np.shape(y_train)\n"
   ]
  },
  {
   "cell_type": "code",
   "execution_count": 132,
   "metadata": {},
   "outputs": [
    {
     "name": "stdout",
     "output_type": "stream",
     "text": [
      "           0         1         2         3         4         5         6     \\\n",
      "0      0.361527  0.367414  0.338250  0.324976  0.340908  0.361844  0.366026   \n",
      "1     -0.412581 -0.381435 -0.475449 -0.389634 -0.421369 -0.442443 -0.388249   \n",
      "2      0.067321  0.070395  0.082381  0.059640  0.095861  0.071571  0.078321   \n",
      "3     -0.708492 -0.643555 -0.646419 -0.739123 -0.711344 -0.670161 -0.759237   \n",
      "4     -1.102998 -1.101553 -1.095843 -1.112303 -1.131098 -1.102339 -1.109689   \n",
      "...         ...       ...       ...       ...       ...       ...       ...   \n",
      "25371 -0.214169 -0.229699 -0.224092 -0.278425 -0.297389 -0.262986 -0.251102   \n",
      "25372 -0.150714 -0.173680 -0.120094 -0.291059 -0.285956 -0.143059 -0.393128   \n",
      "25373 -0.076328  0.020900  0.116184  0.129795  0.127851  0.195911  0.094793   \n",
      "25374 -0.141343 -0.215724 -0.122937 -0.106297 -0.018278 -0.013635 -0.049941   \n",
      "25375 -0.046217  0.061450  0.085798  0.134656  0.090445  0.171422  0.135365   \n",
      "\n",
      "           7         8         9     ...      9990      9991      9992  \\\n",
      "0      0.356878  0.402542  0.391040  ...  0.822751  0.823353  0.776350   \n",
      "1     -0.471962 -0.467668 -0.458929  ... -0.365165 -0.406571 -0.368692   \n",
      "2      0.046328  0.067643  0.057888  ... -0.224486 -0.256870 -0.279747   \n",
      "3     -0.693917 -0.740318 -0.644370  ...  0.534828  0.521762  0.555479   \n",
      "4     -1.136696 -1.133706 -1.139429  ...  3.159526  3.425307  3.646560   \n",
      "...         ...       ...       ...  ...       ...       ...       ...   \n",
      "25371 -0.396234 -0.201589 -0.156196  ... -0.425034 -0.581607 -0.707610   \n",
      "25372 -0.321680 -0.477335 -0.377818  ...  0.232044  0.272872  0.275423   \n",
      "25373  0.102572  0.018955  0.133685  ...  0.217301  0.184243  0.090904   \n",
      "25374 -0.107744 -0.058922 -0.026355  ... -0.140781 -0.085167 -0.053997   \n",
      "25375  0.132282  0.170504  0.197408  ...  0.333536  0.346619  0.254922   \n",
      "\n",
      "           9993      9994      9995      9996      9997      9998      9999  \n",
      "0      0.718950  0.726638  0.711816  0.697026  0.677963  0.604753  0.575578  \n",
      "1     -0.495173 -0.425524 -0.463670 -0.431748 -0.406320 -0.424135 -0.504000  \n",
      "2     -0.313662 -0.286671 -0.325475 -0.338684 -0.321877 -0.322507 -0.320379  \n",
      "3      0.614366  0.677349  0.621613  0.616598  0.646494  0.705375  0.601685  \n",
      "4      3.769452  3.921662  3.997325  3.972392  3.877152  3.712260  3.624596  \n",
      "...         ...       ...       ...       ...       ...       ...       ...  \n",
      "25371 -0.621108 -0.613012 -0.691865 -0.722854 -0.680446 -0.713187 -0.634307  \n",
      "25372  0.252458  0.132527  0.183561  0.234596  0.104458  0.117216  0.137630  \n",
      "25373 -0.031603  0.046179  0.028678  0.036456  0.053958 -0.043271 -0.121053  \n",
      "25374 -0.133083 -0.050288 -0.089047 -0.142605 -0.081485 -0.082002 -0.116479  \n",
      "25375  0.272807  0.265174  0.280517  0.207433  0.304526  0.273679  0.256770  \n",
      "\n",
      "[25376 rows x 10000 columns]\n"
     ]
    }
   ],
   "source": [
    "X_train = np.array(X_train)\n",
    "X_train_df = pd.DataFrame(X_train.reshape((X_train.shape[0], X_train.shape[2])))\n",
    "y_train_df = pd.DataFrame(y_train)\n",
    "print(X_train_df)"
   ]
  },
  {
   "cell_type": "code",
   "execution_count": 128,
   "metadata": {},
   "outputs": [
    {
     "ename": "TypeError",
     "evalue": "'int' object is not subscriptable",
     "output_type": "error",
     "traceback": [
      "\u001b[1;31m---------------------------------------------------------------------------\u001b[0m",
      "\u001b[1;31mTypeError\u001b[0m                                 Traceback (most recent call last)",
      "Input \u001b[1;32mIn [128]\u001b[0m, in \u001b[0;36m<cell line: 3>\u001b[1;34m()\u001b[0m\n\u001b[0;32m      1\u001b[0m \u001b[38;5;66;03m# Convert first element of each array in X_train and y_train to list\u001b[39;00m\n\u001b[0;32m      2\u001b[0m train_ids \u001b[38;5;241m=\u001b[39m [\u001b[38;5;28mstr\u001b[39m(x[\u001b[38;5;241m0\u001b[39m]) \u001b[38;5;28;01mfor\u001b[39;00m x \u001b[38;5;129;01min\u001b[39;00m X_train]\n\u001b[1;32m----> 3\u001b[0m y_train_ids \u001b[38;5;241m=\u001b[39m [\u001b[38;5;28mstr\u001b[39m(y[\u001b[38;5;241m0\u001b[39m]) \u001b[38;5;28;01mfor\u001b[39;00m y \u001b[38;5;129;01min\u001b[39;00m y_train]\n\u001b[0;32m      5\u001b[0m \u001b[38;5;66;03m# Get index of rows with patient ID 'N2001A01BB'\u001b[39;00m\n\u001b[0;32m      6\u001b[0m train_A01_idx \u001b[38;5;241m=\u001b[39m train_ids\u001b[38;5;241m.\u001b[39mindex(\u001b[38;5;124m'\u001b[39m\u001b[38;5;124mN2001A01BB\u001b[39m\u001b[38;5;124m'\u001b[39m)\n",
      "Input \u001b[1;32mIn [128]\u001b[0m, in \u001b[0;36m<listcomp>\u001b[1;34m(.0)\u001b[0m\n\u001b[0;32m      1\u001b[0m \u001b[38;5;66;03m# Convert first element of each array in X_train and y_train to list\u001b[39;00m\n\u001b[0;32m      2\u001b[0m train_ids \u001b[38;5;241m=\u001b[39m [\u001b[38;5;28mstr\u001b[39m(x[\u001b[38;5;241m0\u001b[39m]) \u001b[38;5;28;01mfor\u001b[39;00m x \u001b[38;5;129;01min\u001b[39;00m X_train]\n\u001b[1;32m----> 3\u001b[0m y_train_ids \u001b[38;5;241m=\u001b[39m [\u001b[38;5;28mstr\u001b[39m(\u001b[43my\u001b[49m\u001b[43m[\u001b[49m\u001b[38;5;241;43m0\u001b[39;49m\u001b[43m]\u001b[49m) \u001b[38;5;28;01mfor\u001b[39;00m y \u001b[38;5;129;01min\u001b[39;00m y_train]\n\u001b[0;32m      5\u001b[0m \u001b[38;5;66;03m# Get index of rows with patient ID 'N2001A01BB'\u001b[39;00m\n\u001b[0;32m      6\u001b[0m train_A01_idx \u001b[38;5;241m=\u001b[39m train_ids\u001b[38;5;241m.\u001b[39mindex(\u001b[38;5;124m'\u001b[39m\u001b[38;5;124mN2001A01BB\u001b[39m\u001b[38;5;124m'\u001b[39m)\n",
      "\u001b[1;31mTypeError\u001b[0m: 'int' object is not subscriptable"
     ]
    }
   ],
   "source": [
    "# Convert first element of each array in X_train and y_train to list\n",
    "train_ids = [str(x[0]) for x in X_train]\n",
    "y_train_ids = [str(y[0]) for y in y_train]\n",
    "\n",
    "# Get index of rows with patient ID 'N2001A01BB'\n",
    "train_A01_idx = train_ids.index('N2001A01BB')\n",
    "\n",
    "# Select rows with patient A01 from the training set:\n",
    "train_A01_X = X_train[train_A01_idx]\n",
    "train_A01_y = y_train[train_A01_idx]\n",
    "\n",
    "# Delete rows with patient A01 from the training set:\n",
    "X_train = np.delete(X_train, train_A01_idx, axis=0)\n",
    "y_train = np.delete(y_train, train_A01_idx, axis=0)\n",
    "\n",
    "# Add rows with patient A01 to the test set:\n",
    "X_test = np.vstack((X_test, train_A01_X))\n",
    "y_test = np.concatenate((y_test, train_A01_y))\n"
   ]
  },
  {
   "cell_type": "code",
   "execution_count": null,
   "metadata": {},
   "outputs": [],
   "source": [
    "patient_id = 1  # ID of the patient to be removed\n",
    "mask = (X_train[:, 0] == patient_id)  # Mask for identifying signals of patient_id\n",
    "indices = np.where(mask)[0]  # Indices of signals of patient_id\n",
    "\n",
    "X_train_new = np.delete(X_train, indices, axis=0)\n"
   ]
  },
  {
   "cell_type": "code",
   "execution_count": null,
   "metadata": {},
   "outputs": [],
   "source": [
    "patient_id = 1  # ID of the patient to be removed\n",
    "mask = (X_train[:, 0] == patient_id)  # Mask for identifying signals of patient_id\n",
    "indices = np.where(mask)[0]  # Indices of signals of patient_id\n",
    "\n",
    "X_test_new = np.concatenate([X_test, X_train[indices]], axis=0)\n",
    "y_test_new = np.concatenate([y_test, y_train[indices]], axis=0)\n"
   ]
  },
  {
   "cell_type": "code",
   "execution_count": 46,
   "metadata": {
    "id": "D_a91U25Pg8E"
   },
   "outputs": [],
   "source": [
    "model = Sequential([\n",
    "    #Conv2D(#of filters, filters size, activation function)\n",
    "    #in keras for the first layer we always need to mention the input shape\n",
    "    Conv1D(64, 3, activation = 'relu', padding='same' , input_shape = (1, 10000)), \n",
    "    \n",
    "    #MaxPooling2D(filter size stride and pad can also be added)\n",
    "    MaxPooling1D(2, strides = 2, padding=\"same\"),\n",
    "    #Dropout(0.2),\n",
    "    \n",
    "    #LAYER2\n",
    "    Conv1D(32, 3, activation = 'relu',padding=\"same\"),\n",
    "    MaxPooling1D(2, strides = 2, padding=\"same\"),\n",
    "   # Dropout(0.5),\n",
    "\n",
    "    #FLATTEN\n",
    "    Flatten(),\n",
    "    \n",
    "    #FC Layers:\n",
    "    \n",
    "    #LAYER3\n",
    "    #Dense : fully connected  Dense(#neurons, activation function )\n",
    "    Dense(64, activation = 'relu'),\n",
    "    \n",
    "    #LAYER4\n",
    "    Dense(3, activation = 'softmax')\n",
    "    \n",
    "    \n",
    "])\n",
    "\n",
    "\n"
   ]
  },
  {
   "cell_type": "code",
   "execution_count": 47,
   "metadata": {
    "colab": {
     "base_uri": "https://localhost:8080/"
    },
    "id": "uQgqaSyaPoer",
    "outputId": "63633d65-233f-47ab-99c5-30fad923a723",
    "scrolled": true
   },
   "outputs": [],
   "source": [
    "model.compile(\n",
    "    optimizer=\"adam\",\n",
    "    loss=\"sparse_categorical_crossentropy\",\n",
    "    metrics=[\"accuracy\"],\n",
    ")"
   ]
  },
  {
   "cell_type": "code",
   "execution_count": 48,
   "metadata": {},
   "outputs": [
    {
     "name": "stdout",
     "output_type": "stream",
     "text": [
      "Epoch 1/15\n",
      "397/397 [==============================] - 38s 91ms/step - loss: 0.8591 - accuracy: 0.6044 - val_loss: 0.6233 - val_accuracy: 0.7585\n",
      "Epoch 2/15\n",
      "397/397 [==============================] - 34s 86ms/step - loss: 0.3602 - accuracy: 0.8692 - val_loss: 0.3140 - val_accuracy: 0.8897\n",
      "Epoch 3/15\n",
      "397/397 [==============================] - 34s 86ms/step - loss: 0.1681 - accuracy: 0.9425 - val_loss: 0.2721 - val_accuracy: 0.9108\n",
      "Epoch 4/15\n",
      "397/397 [==============================] - 34s 87ms/step - loss: 0.1200 - accuracy: 0.9584 - val_loss: 0.1737 - val_accuracy: 0.9456\n",
      "Epoch 5/15\n",
      "397/397 [==============================] - 35s 88ms/step - loss: 0.0987 - accuracy: 0.9672 - val_loss: 0.1264 - val_accuracy: 0.9655\n",
      "Epoch 6/15\n",
      "397/397 [==============================] - 35s 89ms/step - loss: 0.0673 - accuracy: 0.9782 - val_loss: 0.1248 - val_accuracy: 0.9655\n",
      "Epoch 7/15\n",
      "397/397 [==============================] - 35s 89ms/step - loss: 0.0853 - accuracy: 0.9714 - val_loss: 0.1996 - val_accuracy: 0.9464\n",
      "Epoch 8/15\n",
      "397/397 [==============================] - 35s 89ms/step - loss: 0.0914 - accuracy: 0.9690 - val_loss: 0.1282 - val_accuracy: 0.9648\n",
      "Epoch 9/15\n",
      "397/397 [==============================] - 36s 90ms/step - loss: 0.0470 - accuracy: 0.9838 - val_loss: 0.1288 - val_accuracy: 0.9718\n",
      "Epoch 10/15\n",
      "397/397 [==============================] - 35s 87ms/step - loss: 0.0377 - accuracy: 0.9877 - val_loss: 0.1126 - val_accuracy: 0.9727\n",
      "Epoch 11/15\n",
      "397/397 [==============================] - 33s 84ms/step - loss: 0.0713 - accuracy: 0.9769 - val_loss: 0.1992 - val_accuracy: 0.9507\n",
      "Epoch 12/15\n",
      "397/397 [==============================] - 33s 84ms/step - loss: 0.0867 - accuracy: 0.9720 - val_loss: 0.1714 - val_accuracy: 0.9642\n",
      "Epoch 13/15\n",
      "397/397 [==============================] - 36s 90ms/step - loss: 0.0345 - accuracy: 0.9894 - val_loss: 0.1119 - val_accuracy: 0.9792\n",
      "Epoch 14/15\n",
      "397/397 [==============================] - 36s 91ms/step - loss: 0.0205 - accuracy: 0.9935 - val_loss: 0.1158 - val_accuracy: 0.9781\n",
      "Epoch 15/15\n",
      "397/397 [==============================] - 36s 91ms/step - loss: 0.0274 - accuracy: 0.9914 - val_loss: 0.1583 - val_accuracy: 0.9704\n"
     ]
    },
    {
     "data": {
      "image/png": "[encoded data removed]",
      "text/plain": [
       "<Figure size 432x288 with 1 Axes>"
      ]
     },
     "metadata": {
      "needs_background": "light"
     },
     "output_type": "display_data"
    },
    {
     "data": {
      "image/png": "[encoded data removed]",
      "text/plain": [
       "<Figure size 432x288 with 1 Axes>"
      ]
     },
     "metadata": {
      "needs_background": "light"
     },
     "output_type": "display_data"
    }
   ],
   "source": [
    "X_train = np.array(X_train)\n",
    "y_train = np.array(y_train)\n",
    "X_val = np.array(X_val)\n",
    "y_val = np.array(y_val)\n",
    "history = model.fit(\n",
    "                    X_train, \n",
    "                    y_train, \n",
    "                    validation_data=(X_val, y_val), \n",
    "                    validation_split=0.1,\n",
    "                    epochs=15, \n",
    "                    batch_size=64)\n",
    "\n",
    "plt.plot(history.history['accuracy'])\n",
    "plt.plot(history.history['val_accuracy'])\n",
    "plt.title('Model Accuracy')\n",
    "plt.ylabel('Accuracy')\n",
    "plt.xlabel('Epoch')\n",
    "plt.legend(['train', 'val'], loc='upper left')\n",
    "plt.show()\n",
    "\n",
    "plt.plot(history.history['loss'])\n",
    "plt.plot(history.history['val_loss'])\n",
    "plt.title('Model Loss')\n",
    "plt.ylabel('Loss')\n",
    "plt.xlabel('Epoch')\n",
    "plt.legend(['train', 'val'], loc='upper left')\n",
    "plt.show()"
   ]
  },
  {
   "cell_type": "code",
   "execution_count": 49,
   "metadata": {
    "colab": {
     "base_uri": "https://localhost:8080/"
    },
    "id": "z7l3lBaiB24f",
    "outputId": "d41c5168-ebf3-4e26-f0f2-dbc19262df59"
   },
   "outputs": [
    {
     "name": "stdout",
     "output_type": "stream",
     "text": [
      "199/199 [==============================] - 2s 8ms/step - loss: 0.0717 - accuracy: 0.9819\n"
     ]
    }
   ],
   "source": [
    "score = model.evaluate(np.asarray(X_test),np.asarray (y_test) ) "
   ]
  },
  {
   "cell_type": "code",
   "execution_count": 40,
   "metadata": {
    "id": "AvMyBwbilmX7"
   },
   "outputs": [],
   "source": [
    "model.save(\"/content/drive/MyDrive/PFE_RESULTS_DATA/augmentation0/scaling/CNN1D/CNN1D.h5\")"
   ]
  },
  {
   "cell_type": "code",
   "execution_count": 41,
   "metadata": {
    "id": "BewY2PamdWPR"
   },
   "outputs": [],
   "source": [
    "import json\n",
    "\n",
    "with open('/content/drive/MyDrive/PFE_RESULTS_DATA/augmentation0/scaling/CNN1D/CNN1D_score.json', 'w+') as file:\n",
    "\n",
    "    json.dump(score, file)"
   ]
  },
  {
   "cell_type": "code",
   "execution_count": 42,
   "metadata": {
    "id": "1xkCcw27YXFO"
   },
   "outputs": [],
   "source": [
    "model= tf.keras.models.load_model(\"/content/drive/MyDrive/PFE_RESULTS_DATA/augmentation0/scaling/CNN1D/CNN1D.h5\")"
   ]
  },
  {
   "cell_type": "code",
   "execution_count": 43,
   "metadata": {
    "colab": {
     "base_uri": "https://localhost:8080/",
     "height": 976
    },
    "id": "gN6rxcWsQod6",
    "outputId": "92284090-afb9-4d20-bb6d-03cfa08967b9"
   },
   "outputs": [
    {
     "name": "stdout",
     "output_type": "stream",
     "text": [
      "You must install pydot (`pip install pydot`) and install graphviz (see instructions at https://graphviz.gitlab.io/download/) for plot_model to work.\n"
     ]
    }
   ],
   "source": [
    "tf.keras.utils.plot_model(\n",
    "    model,\n",
    "    show_shapes=True\n",
    "    )"
   ]
  },
  {
   "cell_type": "code",
   "execution_count": 44,
   "metadata": {
    "id": "tspNRLGFdpFd"
   },
   "outputs": [
    {
     "name": "stdout",
     "output_type": "stream",
     "text": [
      "199/199 [==============================] - 1s 4ms/step\n"
     ]
    }
   ],
   "source": [
    "y_pred = model.predict(np.asarray(X_test))"
   ]
  },
  {
   "cell_type": "code",
   "execution_count": 45,
   "metadata": {
    "id": "Z9K4vfMZgaLK"
   },
   "outputs": [],
   "source": [
    "y_predicted_labels = [{0:\"Normal\",1:\"Neuropathie\",2:\"Myopathie\"}[i] for i in np.argmax(y_pred,axis=1)]"
   ]
  },
  {
   "cell_type": "code",
   "execution_count": 46,
   "metadata": {
    "id": "l3zPwxIXrNAW"
   },
   "outputs": [],
   "source": [
    "y_true_labels = [{0:\"Normal\",1:\"Neuropathie\",2:\"Myopathie\"}[i] for i in y_test]"
   ]
  },
  {
   "cell_type": "code",
   "execution_count": 47,
   "metadata": {
    "colab": {
     "base_uri": "https://localhost:8080/",
     "height": 383
    },
    "id": "J9T2kfElsHak",
    "outputId": "fbc1bbdb-f034-4ac3-e106-8638c5473128"
   },
   "outputs": [
    {
     "data": {
      "image/png": "[encoded data removed]",
      "text/plain": [
       "<Figure size 360x360 with 2 Axes>"
      ]
     },
     "metadata": {
      "needs_background": "light"
     },
     "output_type": "display_data"
    }
   ],
   "source": [
    "import matplotlib.pyplot as plt\n",
    "import seaborn as sns\n",
    "\n",
    "con_mat = tf.math.confusion_matrix(labels=y_test, predictions=np.argmax(y_pred,axis=1)).numpy()\n",
    "con_mat_norm = np.around(con_mat.astype('float') / con_mat.sum(axis=1)[:, np.newaxis], decimals=2)\n",
    "\n",
    "con_mat_df = pd.DataFrame(con_mat_norm,\n",
    "                     index = [\"Normal\",\"Neuropathie\",'Myopathie'], \n",
    "                     columns = [\"Normal\",\"Neuropathie\",'Myopathie'])\n",
    "\n",
    "figure = plt.figure(figsize=(5,5))\n",
    "sns.heatmap(con_mat_df, annot=True,cmap=plt.cm.Blues)\n",
    "plt.tight_layout()\n",
    "plt.ylabel('True label')\n",
    "plt.xlabel('Predicted label')\n",
    "plt.show()\n",
    "\n",
    "\n"
   ]
  },
  {
   "cell_type": "markdown",
   "metadata": {
    "id": "QbtTQkDqJ6gl"
   },
   "source": []
  },
  {
   "cell_type": "code",
   "execution_count": 6,
   "metadata": {},
   "outputs": [
    {
     "name": "stdout",
     "output_type": "stream",
     "text": [
      "2\n",
      "4\n",
      "[2]\n",
      "[[2, 2, 3, 4], [1, 1, 1, 1]]\n",
      "[array([ 2.70522842,  0.64832793,  2.06528057, -0.49849931]), array([3.70522842, 1.64832793, 4.06528057, 2.50150069])]\n",
      "(2, 4)\n"
     ]
    },
    {
     "data": {
      "text/plain": [
       "(2, 4)"
      ]
     },
     "execution_count": 6,
     "metadata": {},
     "output_type": "execute_result"
    }
   ],
   "source": [
    "a =[[1,1,1,1],[2,2,3,4]]\n",
    "b = [a[1][0]]\n",
    "p=len(a)\n",
    "print(p)\n",
    "l=len(a[1])\n",
    "print(l)\n",
    "print(b)\n",
    "print(a[::-1])\n",
    "#print(a[::-1].index([1,1,1]))\n",
    "f=[[1,1,1],[2,2,3,4]]\n",
    "random_noise_6 = np.random.normal(0,1,len(a[0]))\n",
    "\n",
    "a = list(map(lambda x : x + random_noise_6, a))\n",
    "print(a)\n",
    "random_noise_6\n",
    "\n",
    "c=[[1,1,1,1],[2,2,3,4]]\n",
    "c = np.array(c)\n",
    "noise = np.random.normal(0, 1, size=c.shape)\n",
    "c=np.add(c,noise)\n",
    "print(c.shape)\n",
    "noise.shape"
   ]
  },
  {
   "cell_type": "code",
   "execution_count": null,
   "metadata": {},
   "outputs": [],
   "source": []
  },
  {
   "cell_type": "code",
   "execution_count": null,
   "metadata": {},
   "outputs": [],
   "source": []
  },
  {
   "cell_type": "code",
   "execution_count": null,
   "metadata": {},
   "outputs": [],
   "source": []
  }
 ],
 "metadata": {
  "colab": {
   "name": "cnn1d_optimization.ipynb",
   "provenance": []
  },
  "kernelspec": {
   "display_name": "Python 3 (ipykernel)",
   "language": "python",
   "name": "python3"
  },
  "language_info": {
   "codemirror_mode": {
    "name": "ipython",
    "version": 3
   },
   "file_extension": ".py",
   "mimetype": "text/x-python",
   "name": "python",
   "nbconvert_exporter": "python",
   "pygments_lexer": "ipython3",
   "version": "3.9.12"
  }
 },
 "nbformat": 4,
 "nbformat_minor": 1
}
